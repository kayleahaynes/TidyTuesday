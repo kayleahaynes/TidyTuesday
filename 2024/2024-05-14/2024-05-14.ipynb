{
 "cells": [
  {
   "cell_type": "markdown",
   "metadata": {},
   "source": [
    "### Set up"
   ]
  },
  {
   "cell_type": "markdown",
   "metadata": {},
   "source": [
    "#### Load dependencies"
   ]
  },
  {
   "cell_type": "code",
   "execution_count": 2,
   "metadata": {},
   "outputs": [
    {
     "name": "stderr",
     "output_type": "stream",
     "text": [
      "/home/kayleahaynes/.local/lib/python3.10/site-packages/pandas/compat/__init__.py:124: UserWarning: Could not import the lzma module. Your installed Python is incomplete. Attempting to use lzma compression will result in a RuntimeError.\n",
      "  warnings.warn(msg)\n"
     ]
    }
   ],
   "source": [
    "import pandas as pd\n",
    "import plotly.graph_objects as go"
   ]
  },
  {
   "cell_type": "markdown",
   "metadata": {},
   "source": [
    "#### Load data"
   ]
  },
  {
   "cell_type": "code",
   "execution_count": 3,
   "metadata": {},
   "outputs": [],
   "source": [
    "coffee_survey = pd.read_csv('https://raw.githubusercontent.com/rfordatascience/tidytuesday/master/data/2024/2024-05-14/coffee_survey.csv')"
   ]
  },
  {
   "cell_type": "markdown",
   "metadata": {},
   "source": [
    "#### Set preferences "
   ]
  },
  {
   "cell_type": "code",
   "execution_count": 4,
   "metadata": {},
   "outputs": [],
   "source": [
    "# Adjust display options to show all columns\n",
    "pd.set_option('display.max_columns', None)"
   ]
  },
  {
   "cell_type": "markdown",
   "metadata": {},
   "source": [
    "### Simple EDA \n",
    "Explore and understand the data "
   ]
  },
  {
   "cell_type": "code",
   "execution_count": 6,
   "metadata": {},
   "outputs": [
    {
     "data": {
      "text/html": [
       "<div>\n",
       "<style scoped>\n",
       "    .dataframe tbody tr th:only-of-type {\n",
       "        vertical-align: middle;\n",
       "    }\n",
       "\n",
       "    .dataframe tbody tr th {\n",
       "        vertical-align: top;\n",
       "    }\n",
       "\n",
       "    .dataframe thead th {\n",
       "        text-align: right;\n",
       "    }\n",
       "</style>\n",
       "<table border=\"1\" class=\"dataframe\">\n",
       "  <thead>\n",
       "    <tr style=\"text-align: right;\">\n",
       "      <th></th>\n",
       "      <th>submission_id</th>\n",
       "      <th>age</th>\n",
       "      <th>cups</th>\n",
       "      <th>where_drink</th>\n",
       "      <th>brew</th>\n",
       "      <th>brew_other</th>\n",
       "      <th>purchase</th>\n",
       "      <th>purchase_other</th>\n",
       "      <th>favorite</th>\n",
       "      <th>favorite_specify</th>\n",
       "      <th>additions</th>\n",
       "      <th>additions_other</th>\n",
       "      <th>dairy</th>\n",
       "      <th>sweetener</th>\n",
       "      <th>style</th>\n",
       "      <th>strength</th>\n",
       "      <th>roast_level</th>\n",
       "      <th>caffeine</th>\n",
       "      <th>expertise</th>\n",
       "      <th>coffee_a_bitterness</th>\n",
       "      <th>coffee_a_acidity</th>\n",
       "      <th>coffee_a_personal_preference</th>\n",
       "      <th>coffee_a_notes</th>\n",
       "      <th>coffee_b_bitterness</th>\n",
       "      <th>coffee_b_acidity</th>\n",
       "      <th>coffee_b_personal_preference</th>\n",
       "      <th>coffee_b_notes</th>\n",
       "      <th>coffee_c_bitterness</th>\n",
       "      <th>coffee_c_acidity</th>\n",
       "      <th>coffee_c_personal_preference</th>\n",
       "      <th>coffee_c_notes</th>\n",
       "      <th>coffee_d_bitterness</th>\n",
       "      <th>coffee_d_acidity</th>\n",
       "      <th>coffee_d_personal_preference</th>\n",
       "      <th>coffee_d_notes</th>\n",
       "      <th>prefer_abc</th>\n",
       "      <th>prefer_ad</th>\n",
       "      <th>prefer_overall</th>\n",
       "      <th>wfh</th>\n",
       "      <th>total_spend</th>\n",
       "      <th>why_drink</th>\n",
       "      <th>why_drink_other</th>\n",
       "      <th>taste</th>\n",
       "      <th>know_source</th>\n",
       "      <th>most_paid</th>\n",
       "      <th>most_willing</th>\n",
       "      <th>value_cafe</th>\n",
       "      <th>spent_equipment</th>\n",
       "      <th>value_equipment</th>\n",
       "      <th>gender</th>\n",
       "      <th>gender_specify</th>\n",
       "      <th>education_level</th>\n",
       "      <th>ethnicity_race</th>\n",
       "      <th>ethnicity_race_specify</th>\n",
       "      <th>employment_status</th>\n",
       "      <th>number_children</th>\n",
       "      <th>political_affiliation</th>\n",
       "    </tr>\n",
       "  </thead>\n",
       "  <tbody>\n",
       "    <tr>\n",
       "      <th>0</th>\n",
       "      <td>gMR29l</td>\n",
       "      <td>18-24 years old</td>\n",
       "      <td>NaN</td>\n",
       "      <td>NaN</td>\n",
       "      <td>NaN</td>\n",
       "      <td>NaN</td>\n",
       "      <td>NaN</td>\n",
       "      <td>NaN</td>\n",
       "      <td>Regular drip coffee</td>\n",
       "      <td>NaN</td>\n",
       "      <td>No - just black</td>\n",
       "      <td>NaN</td>\n",
       "      <td>NaN</td>\n",
       "      <td>NaN</td>\n",
       "      <td>Complex</td>\n",
       "      <td>NaN</td>\n",
       "      <td>NaN</td>\n",
       "      <td>NaN</td>\n",
       "      <td>NaN</td>\n",
       "      <td>NaN</td>\n",
       "      <td>NaN</td>\n",
       "      <td>NaN</td>\n",
       "      <td>NaN</td>\n",
       "      <td>NaN</td>\n",
       "      <td>NaN</td>\n",
       "      <td>NaN</td>\n",
       "      <td>NaN</td>\n",
       "      <td>NaN</td>\n",
       "      <td>NaN</td>\n",
       "      <td>NaN</td>\n",
       "      <td>NaN</td>\n",
       "      <td>NaN</td>\n",
       "      <td>NaN</td>\n",
       "      <td>NaN</td>\n",
       "      <td>NaN</td>\n",
       "      <td>NaN</td>\n",
       "      <td>NaN</td>\n",
       "      <td>NaN</td>\n",
       "      <td>NaN</td>\n",
       "      <td>NaN</td>\n",
       "      <td>NaN</td>\n",
       "      <td>NaN</td>\n",
       "      <td>NaN</td>\n",
       "      <td>NaN</td>\n",
       "      <td>NaN</td>\n",
       "      <td>NaN</td>\n",
       "      <td>NaN</td>\n",
       "      <td>NaN</td>\n",
       "      <td>NaN</td>\n",
       "      <td>NaN</td>\n",
       "      <td>NaN</td>\n",
       "      <td>NaN</td>\n",
       "      <td>NaN</td>\n",
       "      <td>NaN</td>\n",
       "      <td>NaN</td>\n",
       "      <td>NaN</td>\n",
       "      <td>NaN</td>\n",
       "    </tr>\n",
       "    <tr>\n",
       "      <th>1</th>\n",
       "      <td>BkPN0e</td>\n",
       "      <td>25-34 years old</td>\n",
       "      <td>NaN</td>\n",
       "      <td>NaN</td>\n",
       "      <td>Pod/capsule machine (e.g. Keurig/Nespresso)</td>\n",
       "      <td>NaN</td>\n",
       "      <td>NaN</td>\n",
       "      <td>NaN</td>\n",
       "      <td>Iced coffee</td>\n",
       "      <td>NaN</td>\n",
       "      <td>Sugar or sweetener, No - just black</td>\n",
       "      <td>NaN</td>\n",
       "      <td>NaN</td>\n",
       "      <td>NaN</td>\n",
       "      <td>Light</td>\n",
       "      <td>NaN</td>\n",
       "      <td>NaN</td>\n",
       "      <td>NaN</td>\n",
       "      <td>NaN</td>\n",
       "      <td>NaN</td>\n",
       "      <td>NaN</td>\n",
       "      <td>NaN</td>\n",
       "      <td>NaN</td>\n",
       "      <td>NaN</td>\n",
       "      <td>NaN</td>\n",
       "      <td>NaN</td>\n",
       "      <td>NaN</td>\n",
       "      <td>NaN</td>\n",
       "      <td>NaN</td>\n",
       "      <td>NaN</td>\n",
       "      <td>NaN</td>\n",
       "      <td>NaN</td>\n",
       "      <td>NaN</td>\n",
       "      <td>NaN</td>\n",
       "      <td>NaN</td>\n",
       "      <td>NaN</td>\n",
       "      <td>NaN</td>\n",
       "      <td>NaN</td>\n",
       "      <td>NaN</td>\n",
       "      <td>NaN</td>\n",
       "      <td>NaN</td>\n",
       "      <td>NaN</td>\n",
       "      <td>NaN</td>\n",
       "      <td>NaN</td>\n",
       "      <td>NaN</td>\n",
       "      <td>NaN</td>\n",
       "      <td>NaN</td>\n",
       "      <td>NaN</td>\n",
       "      <td>NaN</td>\n",
       "      <td>NaN</td>\n",
       "      <td>NaN</td>\n",
       "      <td>NaN</td>\n",
       "      <td>NaN</td>\n",
       "      <td>NaN</td>\n",
       "      <td>NaN</td>\n",
       "      <td>NaN</td>\n",
       "      <td>NaN</td>\n",
       "    </tr>\n",
       "    <tr>\n",
       "      <th>2</th>\n",
       "      <td>W5G8jj</td>\n",
       "      <td>25-34 years old</td>\n",
       "      <td>NaN</td>\n",
       "      <td>NaN</td>\n",
       "      <td>Bean-to-cup machine</td>\n",
       "      <td>NaN</td>\n",
       "      <td>NaN</td>\n",
       "      <td>NaN</td>\n",
       "      <td>Regular drip coffee</td>\n",
       "      <td>NaN</td>\n",
       "      <td>No - just black</td>\n",
       "      <td>NaN</td>\n",
       "      <td>NaN</td>\n",
       "      <td>NaN</td>\n",
       "      <td>Complex</td>\n",
       "      <td>NaN</td>\n",
       "      <td>NaN</td>\n",
       "      <td>NaN</td>\n",
       "      <td>NaN</td>\n",
       "      <td>NaN</td>\n",
       "      <td>NaN</td>\n",
       "      <td>NaN</td>\n",
       "      <td>NaN</td>\n",
       "      <td>NaN</td>\n",
       "      <td>NaN</td>\n",
       "      <td>NaN</td>\n",
       "      <td>NaN</td>\n",
       "      <td>NaN</td>\n",
       "      <td>NaN</td>\n",
       "      <td>NaN</td>\n",
       "      <td>NaN</td>\n",
       "      <td>NaN</td>\n",
       "      <td>NaN</td>\n",
       "      <td>NaN</td>\n",
       "      <td>NaN</td>\n",
       "      <td>NaN</td>\n",
       "      <td>NaN</td>\n",
       "      <td>NaN</td>\n",
       "      <td>NaN</td>\n",
       "      <td>NaN</td>\n",
       "      <td>NaN</td>\n",
       "      <td>NaN</td>\n",
       "      <td>NaN</td>\n",
       "      <td>NaN</td>\n",
       "      <td>NaN</td>\n",
       "      <td>NaN</td>\n",
       "      <td>NaN</td>\n",
       "      <td>NaN</td>\n",
       "      <td>NaN</td>\n",
       "      <td>NaN</td>\n",
       "      <td>NaN</td>\n",
       "      <td>NaN</td>\n",
       "      <td>NaN</td>\n",
       "      <td>NaN</td>\n",
       "      <td>NaN</td>\n",
       "      <td>NaN</td>\n",
       "      <td>NaN</td>\n",
       "    </tr>\n",
       "    <tr>\n",
       "      <th>3</th>\n",
       "      <td>4xWgGr</td>\n",
       "      <td>35-44 years old</td>\n",
       "      <td>NaN</td>\n",
       "      <td>NaN</td>\n",
       "      <td>Coffee brewing machine (e.g. Mr. Coffee)</td>\n",
       "      <td>NaN</td>\n",
       "      <td>NaN</td>\n",
       "      <td>NaN</td>\n",
       "      <td>Iced coffee</td>\n",
       "      <td>NaN</td>\n",
       "      <td>No - just black, Cinnamon</td>\n",
       "      <td>NaN</td>\n",
       "      <td>NaN</td>\n",
       "      <td>NaN</td>\n",
       "      <td>Complex</td>\n",
       "      <td>NaN</td>\n",
       "      <td>NaN</td>\n",
       "      <td>NaN</td>\n",
       "      <td>NaN</td>\n",
       "      <td>NaN</td>\n",
       "      <td>NaN</td>\n",
       "      <td>NaN</td>\n",
       "      <td>NaN</td>\n",
       "      <td>NaN</td>\n",
       "      <td>NaN</td>\n",
       "      <td>NaN</td>\n",
       "      <td>NaN</td>\n",
       "      <td>NaN</td>\n",
       "      <td>NaN</td>\n",
       "      <td>NaN</td>\n",
       "      <td>NaN</td>\n",
       "      <td>NaN</td>\n",
       "      <td>NaN</td>\n",
       "      <td>NaN</td>\n",
       "      <td>NaN</td>\n",
       "      <td>NaN</td>\n",
       "      <td>NaN</td>\n",
       "      <td>NaN</td>\n",
       "      <td>NaN</td>\n",
       "      <td>NaN</td>\n",
       "      <td>NaN</td>\n",
       "      <td>NaN</td>\n",
       "      <td>NaN</td>\n",
       "      <td>NaN</td>\n",
       "      <td>NaN</td>\n",
       "      <td>NaN</td>\n",
       "      <td>NaN</td>\n",
       "      <td>NaN</td>\n",
       "      <td>NaN</td>\n",
       "      <td>NaN</td>\n",
       "      <td>NaN</td>\n",
       "      <td>NaN</td>\n",
       "      <td>NaN</td>\n",
       "      <td>NaN</td>\n",
       "      <td>NaN</td>\n",
       "      <td>NaN</td>\n",
       "      <td>NaN</td>\n",
       "    </tr>\n",
       "    <tr>\n",
       "      <th>4</th>\n",
       "      <td>QD27Q8</td>\n",
       "      <td>25-34 years old</td>\n",
       "      <td>NaN</td>\n",
       "      <td>NaN</td>\n",
       "      <td>Pour over</td>\n",
       "      <td>NaN</td>\n",
       "      <td>NaN</td>\n",
       "      <td>NaN</td>\n",
       "      <td>Latte</td>\n",
       "      <td>NaN</td>\n",
       "      <td>No - just black</td>\n",
       "      <td>NaN</td>\n",
       "      <td>NaN</td>\n",
       "      <td>NaN</td>\n",
       "      <td>Sweet</td>\n",
       "      <td>NaN</td>\n",
       "      <td>NaN</td>\n",
       "      <td>NaN</td>\n",
       "      <td>NaN</td>\n",
       "      <td>NaN</td>\n",
       "      <td>NaN</td>\n",
       "      <td>NaN</td>\n",
       "      <td>NaN</td>\n",
       "      <td>NaN</td>\n",
       "      <td>NaN</td>\n",
       "      <td>NaN</td>\n",
       "      <td>NaN</td>\n",
       "      <td>NaN</td>\n",
       "      <td>NaN</td>\n",
       "      <td>NaN</td>\n",
       "      <td>NaN</td>\n",
       "      <td>NaN</td>\n",
       "      <td>NaN</td>\n",
       "      <td>NaN</td>\n",
       "      <td>NaN</td>\n",
       "      <td>NaN</td>\n",
       "      <td>NaN</td>\n",
       "      <td>NaN</td>\n",
       "      <td>NaN</td>\n",
       "      <td>NaN</td>\n",
       "      <td>NaN</td>\n",
       "      <td>NaN</td>\n",
       "      <td>NaN</td>\n",
       "      <td>NaN</td>\n",
       "      <td>NaN</td>\n",
       "      <td>NaN</td>\n",
       "      <td>NaN</td>\n",
       "      <td>NaN</td>\n",
       "      <td>NaN</td>\n",
       "      <td>NaN</td>\n",
       "      <td>NaN</td>\n",
       "      <td>NaN</td>\n",
       "      <td>NaN</td>\n",
       "      <td>NaN</td>\n",
       "      <td>NaN</td>\n",
       "      <td>NaN</td>\n",
       "      <td>NaN</td>\n",
       "    </tr>\n",
       "    <tr>\n",
       "      <th>...</th>\n",
       "      <td>...</td>\n",
       "      <td>...</td>\n",
       "      <td>...</td>\n",
       "      <td>...</td>\n",
       "      <td>...</td>\n",
       "      <td>...</td>\n",
       "      <td>...</td>\n",
       "      <td>...</td>\n",
       "      <td>...</td>\n",
       "      <td>...</td>\n",
       "      <td>...</td>\n",
       "      <td>...</td>\n",
       "      <td>...</td>\n",
       "      <td>...</td>\n",
       "      <td>...</td>\n",
       "      <td>...</td>\n",
       "      <td>...</td>\n",
       "      <td>...</td>\n",
       "      <td>...</td>\n",
       "      <td>...</td>\n",
       "      <td>...</td>\n",
       "      <td>...</td>\n",
       "      <td>...</td>\n",
       "      <td>...</td>\n",
       "      <td>...</td>\n",
       "      <td>...</td>\n",
       "      <td>...</td>\n",
       "      <td>...</td>\n",
       "      <td>...</td>\n",
       "      <td>...</td>\n",
       "      <td>...</td>\n",
       "      <td>...</td>\n",
       "      <td>...</td>\n",
       "      <td>...</td>\n",
       "      <td>...</td>\n",
       "      <td>...</td>\n",
       "      <td>...</td>\n",
       "      <td>...</td>\n",
       "      <td>...</td>\n",
       "      <td>...</td>\n",
       "      <td>...</td>\n",
       "      <td>...</td>\n",
       "      <td>...</td>\n",
       "      <td>...</td>\n",
       "      <td>...</td>\n",
       "      <td>...</td>\n",
       "      <td>...</td>\n",
       "      <td>...</td>\n",
       "      <td>...</td>\n",
       "      <td>...</td>\n",
       "      <td>...</td>\n",
       "      <td>...</td>\n",
       "      <td>...</td>\n",
       "      <td>...</td>\n",
       "      <td>...</td>\n",
       "      <td>...</td>\n",
       "      <td>...</td>\n",
       "    </tr>\n",
       "    <tr>\n",
       "      <th>4037</th>\n",
       "      <td>PA44VP</td>\n",
       "      <td>&gt;65 years old</td>\n",
       "      <td>2</td>\n",
       "      <td>At home</td>\n",
       "      <td>Coffee brewing machine (e.g. Mr. Coffee)</td>\n",
       "      <td>NaN</td>\n",
       "      <td>NaN</td>\n",
       "      <td>NaN</td>\n",
       "      <td>Regular drip coffee</td>\n",
       "      <td>NaN</td>\n",
       "      <td>Milk, dairy alternative, or coffee creamer, Other</td>\n",
       "      <td>golden milk recipe (turmeric+spice)</td>\n",
       "      <td>Skim milk</td>\n",
       "      <td>NaN</td>\n",
       "      <td>Chocolatey</td>\n",
       "      <td>Medium</td>\n",
       "      <td>Medium</td>\n",
       "      <td>Full caffeine</td>\n",
       "      <td>2.0</td>\n",
       "      <td>2.0</td>\n",
       "      <td>2.0</td>\n",
       "      <td>5.0</td>\n",
       "      <td>NaN</td>\n",
       "      <td>2.0</td>\n",
       "      <td>2.0</td>\n",
       "      <td>3.0</td>\n",
       "      <td>NaN</td>\n",
       "      <td>2.0</td>\n",
       "      <td>2.0</td>\n",
       "      <td>4.0</td>\n",
       "      <td>NaN</td>\n",
       "      <td>5.0</td>\n",
       "      <td>5.0</td>\n",
       "      <td>1.0</td>\n",
       "      <td>Sour</td>\n",
       "      <td>Coffee A</td>\n",
       "      <td>Coffee A</td>\n",
       "      <td>Coffee A</td>\n",
       "      <td>NaN</td>\n",
       "      <td>$20-$40</td>\n",
       "      <td>It tastes good</td>\n",
       "      <td>NaN</td>\n",
       "      <td>Yes</td>\n",
       "      <td>No</td>\n",
       "      <td>$6-$8</td>\n",
       "      <td>$4-$6</td>\n",
       "      <td>No</td>\n",
       "      <td>Less than $20</td>\n",
       "      <td>Yes</td>\n",
       "      <td>Female</td>\n",
       "      <td>NaN</td>\n",
       "      <td>Master's degree</td>\n",
       "      <td>White/Caucasian</td>\n",
       "      <td>NaN</td>\n",
       "      <td>Retired</td>\n",
       "      <td>2</td>\n",
       "      <td>Democrat</td>\n",
       "    </tr>\n",
       "    <tr>\n",
       "      <th>4038</th>\n",
       "      <td>vNgpPD</td>\n",
       "      <td>&gt;65 years old</td>\n",
       "      <td>2</td>\n",
       "      <td>At home</td>\n",
       "      <td>Coffee brewing machine (e.g. Mr. Coffee)</td>\n",
       "      <td>NaN</td>\n",
       "      <td>NaN</td>\n",
       "      <td>NaN</td>\n",
       "      <td>Regular drip coffee</td>\n",
       "      <td>NaN</td>\n",
       "      <td>Milk, dairy alternative, or coffee creamer</td>\n",
       "      <td>NaN</td>\n",
       "      <td>Skim milk</td>\n",
       "      <td>NaN</td>\n",
       "      <td>Nutty</td>\n",
       "      <td>Medium</td>\n",
       "      <td>Light</td>\n",
       "      <td>Full caffeine</td>\n",
       "      <td>2.0</td>\n",
       "      <td>2.0</td>\n",
       "      <td>2.0</td>\n",
       "      <td>4.0</td>\n",
       "      <td>NaN</td>\n",
       "      <td>3.0</td>\n",
       "      <td>3.0</td>\n",
       "      <td>2.0</td>\n",
       "      <td>NaN</td>\n",
       "      <td>4.0</td>\n",
       "      <td>3.0</td>\n",
       "      <td>2.0</td>\n",
       "      <td>NaN</td>\n",
       "      <td>4.0</td>\n",
       "      <td>3.0</td>\n",
       "      <td>2.0</td>\n",
       "      <td>NaN</td>\n",
       "      <td>Coffee A</td>\n",
       "      <td>Coffee A</td>\n",
       "      <td>Coffee A</td>\n",
       "      <td>NaN</td>\n",
       "      <td>$20-$40</td>\n",
       "      <td>I need the caffeine</td>\n",
       "      <td>NaN</td>\n",
       "      <td>Yes</td>\n",
       "      <td>No</td>\n",
       "      <td>$4-$6</td>\n",
       "      <td>$2-$4</td>\n",
       "      <td>No</td>\n",
       "      <td>Less than $20</td>\n",
       "      <td>Yes</td>\n",
       "      <td>Male</td>\n",
       "      <td>NaN</td>\n",
       "      <td>Bachelor's degree</td>\n",
       "      <td>White/Caucasian</td>\n",
       "      <td>NaN</td>\n",
       "      <td>Retired</td>\n",
       "      <td>2</td>\n",
       "      <td>Republican</td>\n",
       "    </tr>\n",
       "    <tr>\n",
       "      <th>4039</th>\n",
       "      <td>g5ggRM</td>\n",
       "      <td>18-24 years old</td>\n",
       "      <td>1</td>\n",
       "      <td>At a cafe, At home, On the go, At the office</td>\n",
       "      <td>Espresso, Pod/capsule machine (e.g. Keurig/Nes...</td>\n",
       "      <td>Aeropress</td>\n",
       "      <td>National chain (e.g. Starbucks, Dunkin), Drive...</td>\n",
       "      <td>NaN</td>\n",
       "      <td>Latte</td>\n",
       "      <td>NaN</td>\n",
       "      <td>No - just black, Milk, dairy alternative, or c...</td>\n",
       "      <td>NaN</td>\n",
       "      <td>Oat milk, Coffee creamer, Flavored coffee creamer</td>\n",
       "      <td>NaN</td>\n",
       "      <td>Sweet</td>\n",
       "      <td>Somewhat strong</td>\n",
       "      <td>Light</td>\n",
       "      <td>Full caffeine</td>\n",
       "      <td>5.0</td>\n",
       "      <td>2.0</td>\n",
       "      <td>3.0</td>\n",
       "      <td>3.0</td>\n",
       "      <td>Honey, Lemon</td>\n",
       "      <td>5.0</td>\n",
       "      <td>3.0</td>\n",
       "      <td>4.0</td>\n",
       "      <td>Chocolate?, Orange</td>\n",
       "      <td>3.0</td>\n",
       "      <td>1.0</td>\n",
       "      <td>1.0</td>\n",
       "      <td>Licorice</td>\n",
       "      <td>1.0</td>\n",
       "      <td>4.0</td>\n",
       "      <td>5.0</td>\n",
       "      <td>Apple, Cinnamon</td>\n",
       "      <td>Coffee B</td>\n",
       "      <td>Coffee D</td>\n",
       "      <td>Coffee C</td>\n",
       "      <td>I primarily work in person</td>\n",
       "      <td>$40-$60</td>\n",
       "      <td>It tastes good, I need the ritual, It makes me...</td>\n",
       "      <td>NaN</td>\n",
       "      <td>Yes</td>\n",
       "      <td>Yes</td>\n",
       "      <td>$8-$10</td>\n",
       "      <td>More than $20</td>\n",
       "      <td>Yes</td>\n",
       "      <td>$300-$500</td>\n",
       "      <td>Yes</td>\n",
       "      <td>Male</td>\n",
       "      <td>NaN</td>\n",
       "      <td>Some college or associate's degree</td>\n",
       "      <td>White/Caucasian</td>\n",
       "      <td>NaN</td>\n",
       "      <td>Employed full-time</td>\n",
       "      <td>None</td>\n",
       "      <td>Democrat</td>\n",
       "    </tr>\n",
       "    <tr>\n",
       "      <th>4040</th>\n",
       "      <td>rlgbDN</td>\n",
       "      <td>25-34 years old</td>\n",
       "      <td>2</td>\n",
       "      <td>At home</td>\n",
       "      <td>Pour over</td>\n",
       "      <td>NaN</td>\n",
       "      <td>NaN</td>\n",
       "      <td>NaN</td>\n",
       "      <td>Iced coffee</td>\n",
       "      <td>NaN</td>\n",
       "      <td>Milk, dairy alternative, or coffee creamer</td>\n",
       "      <td>NaN</td>\n",
       "      <td>Whole milk</td>\n",
       "      <td>NaN</td>\n",
       "      <td>Nutty</td>\n",
       "      <td>Somewhat strong</td>\n",
       "      <td>Medium</td>\n",
       "      <td>Full caffeine</td>\n",
       "      <td>6.0</td>\n",
       "      <td>1.0</td>\n",
       "      <td>4.0</td>\n",
       "      <td>4.0</td>\n",
       "      <td>Green apple</td>\n",
       "      <td>3.0</td>\n",
       "      <td>2.0</td>\n",
       "      <td>3.0</td>\n",
       "      <td>Dark cocoa</td>\n",
       "      <td>2.0</td>\n",
       "      <td>3.0</td>\n",
       "      <td>3.0</td>\n",
       "      <td>Wine</td>\n",
       "      <td>2.0</td>\n",
       "      <td>5.0</td>\n",
       "      <td>2.0</td>\n",
       "      <td>Kombucha, cider</td>\n",
       "      <td>Coffee A</td>\n",
       "      <td>Coffee A</td>\n",
       "      <td>Coffee A</td>\n",
       "      <td>I primarily work in person</td>\n",
       "      <td>$20-$40</td>\n",
       "      <td>I need the caffeine, It tastes good, I need th...</td>\n",
       "      <td>NaN</td>\n",
       "      <td>Yes</td>\n",
       "      <td>Yes</td>\n",
       "      <td>$4-$6</td>\n",
       "      <td>$8-$10</td>\n",
       "      <td>Yes</td>\n",
       "      <td>$100-$300</td>\n",
       "      <td>Yes</td>\n",
       "      <td>Male</td>\n",
       "      <td>NaN</td>\n",
       "      <td>Bachelor's degree</td>\n",
       "      <td>White/Caucasian</td>\n",
       "      <td>NaN</td>\n",
       "      <td>Unemployed</td>\n",
       "      <td>None</td>\n",
       "      <td>Democrat</td>\n",
       "    </tr>\n",
       "    <tr>\n",
       "      <th>4041</th>\n",
       "      <td>0EGYe9</td>\n",
       "      <td>25-34 years old</td>\n",
       "      <td>1</td>\n",
       "      <td>At home</td>\n",
       "      <td>Pour over, French press, Espresso, Other</td>\n",
       "      <td>Aeropress</td>\n",
       "      <td>NaN</td>\n",
       "      <td>NaN</td>\n",
       "      <td>Latte</td>\n",
       "      <td>NaN</td>\n",
       "      <td>Milk, dairy alternative, or coffee creamer, Su...</td>\n",
       "      <td>NaN</td>\n",
       "      <td>Whole milk</td>\n",
       "      <td>Granulated Sugar</td>\n",
       "      <td>Chocolatey</td>\n",
       "      <td>Medium</td>\n",
       "      <td>Medium</td>\n",
       "      <td>Full caffeine</td>\n",
       "      <td>6.0</td>\n",
       "      <td>2.0</td>\n",
       "      <td>4.0</td>\n",
       "      <td>5.0</td>\n",
       "      <td>Chocolate, green apple</td>\n",
       "      <td>4.0</td>\n",
       "      <td>1.0</td>\n",
       "      <td>3.0</td>\n",
       "      <td>Citrus, nutty</td>\n",
       "      <td>3.0</td>\n",
       "      <td>3.0</td>\n",
       "      <td>3.0</td>\n",
       "      <td>Toast</td>\n",
       "      <td>2.0</td>\n",
       "      <td>4.0</td>\n",
       "      <td>4.0</td>\n",
       "      <td>Berries</td>\n",
       "      <td>Coffee A</td>\n",
       "      <td>Coffee A</td>\n",
       "      <td>Coffee A</td>\n",
       "      <td>I primarily work in person</td>\n",
       "      <td>$20-$40</td>\n",
       "      <td>It tastes good, I need the caffeine, I need th...</td>\n",
       "      <td>NaN</td>\n",
       "      <td>Yes</td>\n",
       "      <td>Yes</td>\n",
       "      <td>$15-$20</td>\n",
       "      <td>$15-$20</td>\n",
       "      <td>Yes</td>\n",
       "      <td>$500-$1000</td>\n",
       "      <td>Yes</td>\n",
       "      <td>Female</td>\n",
       "      <td>NaN</td>\n",
       "      <td>Doctorate or professional degree</td>\n",
       "      <td>White/Caucasian</td>\n",
       "      <td>NaN</td>\n",
       "      <td>Employed full-time</td>\n",
       "      <td>1</td>\n",
       "      <td>Democrat</td>\n",
       "    </tr>\n",
       "  </tbody>\n",
       "</table>\n",
       "<p>4042 rows × 57 columns</p>\n",
       "</div>"
      ],
      "text/plain": [
       "     submission_id              age cups  \\\n",
       "0           gMR29l  18-24 years old  NaN   \n",
       "1           BkPN0e  25-34 years old  NaN   \n",
       "2           W5G8jj  25-34 years old  NaN   \n",
       "3           4xWgGr  35-44 years old  NaN   \n",
       "4           QD27Q8  25-34 years old  NaN   \n",
       "...            ...              ...  ...   \n",
       "4037        PA44VP    >65 years old    2   \n",
       "4038        vNgpPD    >65 years old    2   \n",
       "4039        g5ggRM  18-24 years old    1   \n",
       "4040        rlgbDN  25-34 years old    2   \n",
       "4041        0EGYe9  25-34 years old    1   \n",
       "\n",
       "                                       where_drink  \\\n",
       "0                                              NaN   \n",
       "1                                              NaN   \n",
       "2                                              NaN   \n",
       "3                                              NaN   \n",
       "4                                              NaN   \n",
       "...                                            ...   \n",
       "4037                                       At home   \n",
       "4038                                       At home   \n",
       "4039  At a cafe, At home, On the go, At the office   \n",
       "4040                                       At home   \n",
       "4041                                       At home   \n",
       "\n",
       "                                                   brew brew_other  \\\n",
       "0                                                   NaN        NaN   \n",
       "1           Pod/capsule machine (e.g. Keurig/Nespresso)        NaN   \n",
       "2                                   Bean-to-cup machine        NaN   \n",
       "3              Coffee brewing machine (e.g. Mr. Coffee)        NaN   \n",
       "4                                             Pour over        NaN   \n",
       "...                                                 ...        ...   \n",
       "4037           Coffee brewing machine (e.g. Mr. Coffee)        NaN   \n",
       "4038           Coffee brewing machine (e.g. Mr. Coffee)        NaN   \n",
       "4039  Espresso, Pod/capsule machine (e.g. Keurig/Nes...  Aeropress   \n",
       "4040                                          Pour over        NaN   \n",
       "4041           Pour over, French press, Espresso, Other  Aeropress   \n",
       "\n",
       "                                               purchase purchase_other  \\\n",
       "0                                                   NaN            NaN   \n",
       "1                                                   NaN            NaN   \n",
       "2                                                   NaN            NaN   \n",
       "3                                                   NaN            NaN   \n",
       "4                                                   NaN            NaN   \n",
       "...                                                 ...            ...   \n",
       "4037                                                NaN            NaN   \n",
       "4038                                                NaN            NaN   \n",
       "4039  National chain (e.g. Starbucks, Dunkin), Drive...            NaN   \n",
       "4040                                                NaN            NaN   \n",
       "4041                                                NaN            NaN   \n",
       "\n",
       "                 favorite favorite_specify  \\\n",
       "0     Regular drip coffee              NaN   \n",
       "1             Iced coffee              NaN   \n",
       "2     Regular drip coffee              NaN   \n",
       "3             Iced coffee              NaN   \n",
       "4                   Latte              NaN   \n",
       "...                   ...              ...   \n",
       "4037  Regular drip coffee              NaN   \n",
       "4038  Regular drip coffee              NaN   \n",
       "4039                Latte              NaN   \n",
       "4040          Iced coffee              NaN   \n",
       "4041                Latte              NaN   \n",
       "\n",
       "                                              additions  \\\n",
       "0                                       No - just black   \n",
       "1                   Sugar or sweetener, No - just black   \n",
       "2                                       No - just black   \n",
       "3                             No - just black, Cinnamon   \n",
       "4                                       No - just black   \n",
       "...                                                 ...   \n",
       "4037  Milk, dairy alternative, or coffee creamer, Other   \n",
       "4038         Milk, dairy alternative, or coffee creamer   \n",
       "4039  No - just black, Milk, dairy alternative, or c...   \n",
       "4040         Milk, dairy alternative, or coffee creamer   \n",
       "4041  Milk, dairy alternative, or coffee creamer, Su...   \n",
       "\n",
       "                          additions_other  \\\n",
       "0                                     NaN   \n",
       "1                                     NaN   \n",
       "2                                     NaN   \n",
       "3                                     NaN   \n",
       "4                                     NaN   \n",
       "...                                   ...   \n",
       "4037  golden milk recipe (turmeric+spice)   \n",
       "4038                                  NaN   \n",
       "4039                                  NaN   \n",
       "4040                                  NaN   \n",
       "4041                                  NaN   \n",
       "\n",
       "                                                  dairy         sweetener  \\\n",
       "0                                                   NaN               NaN   \n",
       "1                                                   NaN               NaN   \n",
       "2                                                   NaN               NaN   \n",
       "3                                                   NaN               NaN   \n",
       "4                                                   NaN               NaN   \n",
       "...                                                 ...               ...   \n",
       "4037                                          Skim milk               NaN   \n",
       "4038                                          Skim milk               NaN   \n",
       "4039  Oat milk, Coffee creamer, Flavored coffee creamer               NaN   \n",
       "4040                                         Whole milk               NaN   \n",
       "4041                                         Whole milk  Granulated Sugar   \n",
       "\n",
       "           style         strength roast_level       caffeine  expertise  \\\n",
       "0        Complex              NaN         NaN            NaN        NaN   \n",
       "1          Light              NaN         NaN            NaN        NaN   \n",
       "2        Complex              NaN         NaN            NaN        NaN   \n",
       "3        Complex              NaN         NaN            NaN        NaN   \n",
       "4          Sweet              NaN         NaN            NaN        NaN   \n",
       "...          ...              ...         ...            ...        ...   \n",
       "4037  Chocolatey           Medium      Medium  Full caffeine        2.0   \n",
       "4038       Nutty           Medium       Light  Full caffeine        2.0   \n",
       "4039       Sweet  Somewhat strong       Light  Full caffeine        5.0   \n",
       "4040       Nutty  Somewhat strong      Medium  Full caffeine        6.0   \n",
       "4041  Chocolatey           Medium      Medium  Full caffeine        6.0   \n",
       "\n",
       "      coffee_a_bitterness  coffee_a_acidity  coffee_a_personal_preference  \\\n",
       "0                     NaN               NaN                           NaN   \n",
       "1                     NaN               NaN                           NaN   \n",
       "2                     NaN               NaN                           NaN   \n",
       "3                     NaN               NaN                           NaN   \n",
       "4                     NaN               NaN                           NaN   \n",
       "...                   ...               ...                           ...   \n",
       "4037                  2.0               2.0                           5.0   \n",
       "4038                  2.0               2.0                           4.0   \n",
       "4039                  2.0               3.0                           3.0   \n",
       "4040                  1.0               4.0                           4.0   \n",
       "4041                  2.0               4.0                           5.0   \n",
       "\n",
       "              coffee_a_notes  coffee_b_bitterness  coffee_b_acidity  \\\n",
       "0                        NaN                  NaN               NaN   \n",
       "1                        NaN                  NaN               NaN   \n",
       "2                        NaN                  NaN               NaN   \n",
       "3                        NaN                  NaN               NaN   \n",
       "4                        NaN                  NaN               NaN   \n",
       "...                      ...                  ...               ...   \n",
       "4037                     NaN                  2.0               2.0   \n",
       "4038                     NaN                  3.0               3.0   \n",
       "4039            Honey, Lemon                  5.0               3.0   \n",
       "4040             Green apple                  3.0               2.0   \n",
       "4041  Chocolate, green apple                  4.0               1.0   \n",
       "\n",
       "      coffee_b_personal_preference      coffee_b_notes  coffee_c_bitterness  \\\n",
       "0                              NaN                 NaN                  NaN   \n",
       "1                              NaN                 NaN                  NaN   \n",
       "2                              NaN                 NaN                  NaN   \n",
       "3                              NaN                 NaN                  NaN   \n",
       "4                              NaN                 NaN                  NaN   \n",
       "...                            ...                 ...                  ...   \n",
       "4037                           3.0                 NaN                  2.0   \n",
       "4038                           2.0                 NaN                  4.0   \n",
       "4039                           4.0  Chocolate?, Orange                  3.0   \n",
       "4040                           3.0          Dark cocoa                  2.0   \n",
       "4041                           3.0       Citrus, nutty                  3.0   \n",
       "\n",
       "      coffee_c_acidity  coffee_c_personal_preference coffee_c_notes  \\\n",
       "0                  NaN                           NaN            NaN   \n",
       "1                  NaN                           NaN            NaN   \n",
       "2                  NaN                           NaN            NaN   \n",
       "3                  NaN                           NaN            NaN   \n",
       "4                  NaN                           NaN            NaN   \n",
       "...                ...                           ...            ...   \n",
       "4037               2.0                           4.0            NaN   \n",
       "4038               3.0                           2.0            NaN   \n",
       "4039               1.0                           1.0       Licorice   \n",
       "4040               3.0                           3.0           Wine   \n",
       "4041               3.0                           3.0          Toast   \n",
       "\n",
       "      coffee_d_bitterness  coffee_d_acidity  coffee_d_personal_preference  \\\n",
       "0                     NaN               NaN                           NaN   \n",
       "1                     NaN               NaN                           NaN   \n",
       "2                     NaN               NaN                           NaN   \n",
       "3                     NaN               NaN                           NaN   \n",
       "4                     NaN               NaN                           NaN   \n",
       "...                   ...               ...                           ...   \n",
       "4037                  5.0               5.0                           1.0   \n",
       "4038                  4.0               3.0                           2.0   \n",
       "4039                  1.0               4.0                           5.0   \n",
       "4040                  2.0               5.0                           2.0   \n",
       "4041                  2.0               4.0                           4.0   \n",
       "\n",
       "       coffee_d_notes prefer_abc prefer_ad prefer_overall  \\\n",
       "0                 NaN        NaN       NaN            NaN   \n",
       "1                 NaN        NaN       NaN            NaN   \n",
       "2                 NaN        NaN       NaN            NaN   \n",
       "3                 NaN        NaN       NaN            NaN   \n",
       "4                 NaN        NaN       NaN            NaN   \n",
       "...               ...        ...       ...            ...   \n",
       "4037             Sour   Coffee A  Coffee A       Coffee A   \n",
       "4038              NaN   Coffee A  Coffee A       Coffee A   \n",
       "4039  Apple, Cinnamon   Coffee B  Coffee D       Coffee C   \n",
       "4040  Kombucha, cider   Coffee A  Coffee A       Coffee A   \n",
       "4041          Berries   Coffee A  Coffee A       Coffee A   \n",
       "\n",
       "                             wfh total_spend  \\\n",
       "0                            NaN         NaN   \n",
       "1                            NaN         NaN   \n",
       "2                            NaN         NaN   \n",
       "3                            NaN         NaN   \n",
       "4                            NaN         NaN   \n",
       "...                          ...         ...   \n",
       "4037                         NaN     $20-$40   \n",
       "4038                         NaN     $20-$40   \n",
       "4039  I primarily work in person     $40-$60   \n",
       "4040  I primarily work in person     $20-$40   \n",
       "4041  I primarily work in person     $20-$40   \n",
       "\n",
       "                                              why_drink why_drink_other taste  \\\n",
       "0                                                   NaN             NaN   NaN   \n",
       "1                                                   NaN             NaN   NaN   \n",
       "2                                                   NaN             NaN   NaN   \n",
       "3                                                   NaN             NaN   NaN   \n",
       "4                                                   NaN             NaN   NaN   \n",
       "...                                                 ...             ...   ...   \n",
       "4037                                     It tastes good             NaN   Yes   \n",
       "4038                                I need the caffeine             NaN   Yes   \n",
       "4039  It tastes good, I need the ritual, It makes me...             NaN   Yes   \n",
       "4040  I need the caffeine, It tastes good, I need th...             NaN   Yes   \n",
       "4041  It tastes good, I need the caffeine, I need th...             NaN   Yes   \n",
       "\n",
       "     know_source most_paid   most_willing value_cafe spent_equipment  \\\n",
       "0            NaN       NaN            NaN        NaN             NaN   \n",
       "1            NaN       NaN            NaN        NaN             NaN   \n",
       "2            NaN       NaN            NaN        NaN             NaN   \n",
       "3            NaN       NaN            NaN        NaN             NaN   \n",
       "4            NaN       NaN            NaN        NaN             NaN   \n",
       "...          ...       ...            ...        ...             ...   \n",
       "4037          No     $6-$8          $4-$6         No   Less than $20   \n",
       "4038          No     $4-$6          $2-$4         No   Less than $20   \n",
       "4039         Yes    $8-$10  More than $20        Yes       $300-$500   \n",
       "4040         Yes     $4-$6         $8-$10        Yes       $100-$300   \n",
       "4041         Yes   $15-$20        $15-$20        Yes      $500-$1000   \n",
       "\n",
       "     value_equipment  gender gender_specify  \\\n",
       "0                NaN     NaN            NaN   \n",
       "1                NaN     NaN            NaN   \n",
       "2                NaN     NaN            NaN   \n",
       "3                NaN     NaN            NaN   \n",
       "4                NaN     NaN            NaN   \n",
       "...              ...     ...            ...   \n",
       "4037             Yes  Female            NaN   \n",
       "4038             Yes    Male            NaN   \n",
       "4039             Yes    Male            NaN   \n",
       "4040             Yes    Male            NaN   \n",
       "4041             Yes  Female            NaN   \n",
       "\n",
       "                         education_level   ethnicity_race  \\\n",
       "0                                    NaN              NaN   \n",
       "1                                    NaN              NaN   \n",
       "2                                    NaN              NaN   \n",
       "3                                    NaN              NaN   \n",
       "4                                    NaN              NaN   \n",
       "...                                  ...              ...   \n",
       "4037                     Master's degree  White/Caucasian   \n",
       "4038                   Bachelor's degree  White/Caucasian   \n",
       "4039  Some college or associate's degree  White/Caucasian   \n",
       "4040                   Bachelor's degree  White/Caucasian   \n",
       "4041    Doctorate or professional degree  White/Caucasian   \n",
       "\n",
       "     ethnicity_race_specify   employment_status number_children  \\\n",
       "0                       NaN                 NaN             NaN   \n",
       "1                       NaN                 NaN             NaN   \n",
       "2                       NaN                 NaN             NaN   \n",
       "3                       NaN                 NaN             NaN   \n",
       "4                       NaN                 NaN             NaN   \n",
       "...                     ...                 ...             ...   \n",
       "4037                    NaN             Retired               2   \n",
       "4038                    NaN             Retired               2   \n",
       "4039                    NaN  Employed full-time            None   \n",
       "4040                    NaN          Unemployed            None   \n",
       "4041                    NaN  Employed full-time               1   \n",
       "\n",
       "     political_affiliation  \n",
       "0                      NaN  \n",
       "1                      NaN  \n",
       "2                      NaN  \n",
       "3                      NaN  \n",
       "4                      NaN  \n",
       "...                    ...  \n",
       "4037              Democrat  \n",
       "4038            Republican  \n",
       "4039              Democrat  \n",
       "4040              Democrat  \n",
       "4041              Democrat  \n",
       "\n",
       "[4042 rows x 57 columns]"
      ]
     },
     "execution_count": 6,
     "metadata": {},
     "output_type": "execute_result"
    }
   ],
   "source": [
    "coffee_survey"
   ]
  },
  {
   "cell_type": "code",
   "execution_count": 10,
   "metadata": {},
   "outputs": [
    {
     "name": "stdout",
     "output_type": "stream",
     "text": [
      "<class 'pandas.core.frame.DataFrame'>\n",
      "RangeIndex: 4042 entries, 0 to 4041\n",
      "Data columns (total 57 columns):\n",
      " #   Column                        Non-Null Count  Dtype  \n",
      "---  ------                        --------------  -----  \n",
      " 0   submission_id                 4042 non-null   object \n",
      " 1   age                           4011 non-null   object \n",
      " 2   cups                          3949 non-null   object \n",
      " 3   where_drink                   3972 non-null   object \n",
      " 4   brew                          3657 non-null   object \n",
      " 5   brew_other                    678 non-null    object \n",
      " 6   purchase                      710 non-null    object \n",
      " 7   purchase_other                31 non-null     object \n",
      " 8   favorite                      3980 non-null   object \n",
      " 9   favorite_specify              116 non-null    object \n",
      " 10  additions                     3959 non-null   object \n",
      " 11  additions_other               48 non-null     object \n",
      " 12  dairy                         1686 non-null   object \n",
      " 13  sweetener                     512 non-null    object \n",
      " 14  style                         3958 non-null   object \n",
      " 15  strength                      3916 non-null   object \n",
      " 16  roast_level                   3940 non-null   object \n",
      " 17  caffeine                      3917 non-null   object \n",
      " 18  expertise                     3938 non-null   float64\n",
      " 19  coffee_a_bitterness           3798 non-null   float64\n",
      " 20  coffee_a_acidity              3779 non-null   float64\n",
      " 21  coffee_a_personal_preference  3789 non-null   float64\n",
      " 22  coffee_a_notes                2578 non-null   object \n",
      " 23  coffee_b_bitterness           3780 non-null   float64\n",
      " 24  coffee_b_acidity              3767 non-null   float64\n",
      " 25  coffee_b_personal_preference  3773 non-null   float64\n",
      " 26  coffee_b_notes                2455 non-null   object \n",
      " 27  coffee_c_bitterness           3764 non-null   float64\n",
      " 28  coffee_c_acidity              3751 non-null   float64\n",
      " 29  coffee_c_personal_preference  3766 non-null   float64\n",
      " 30  coffee_c_notes                2382 non-null   object \n",
      " 31  coffee_d_bitterness           3767 non-null   float64\n",
      " 32  coffee_d_acidity              3765 non-null   float64\n",
      " 33  coffee_d_personal_preference  3764 non-null   float64\n",
      " 34  coffee_d_notes                2588 non-null   object \n",
      " 35  prefer_abc                    3772 non-null   object \n",
      " 36  prefer_ad                     3761 non-null   object \n",
      " 37  prefer_overall                3770 non-null   object \n",
      " 38  wfh                           3524 non-null   object \n",
      " 39  total_spend                   3511 non-null   object \n",
      " 40  why_drink                     3568 non-null   object \n",
      " 41  why_drink_other               167 non-null    object \n",
      " 42  taste                         3563 non-null   object \n",
      " 43  know_source                   3559 non-null   object \n",
      " 44  most_paid                     3527 non-null   object \n",
      " 45  most_willing                  3510 non-null   object \n",
      " 46  value_cafe                    3500 non-null   object \n",
      " 47  spent_equipment               3506 non-null   object \n",
      " 48  value_equipment               3494 non-null   object \n",
      " 49  gender                        3523 non-null   object \n",
      " 50  gender_specify                12 non-null     object \n",
      " 51  education_level               3438 non-null   object \n",
      " 52  ethnicity_race                3418 non-null   object \n",
      " 53  ethnicity_race_specify        105 non-null    object \n",
      " 54  employment_status             3419 non-null   object \n",
      " 55  number_children               3406 non-null   object \n",
      " 56  political_affiliation         3289 non-null   object \n",
      "dtypes: float64(13), object(44)\n",
      "memory usage: 1.8+ MB\n"
     ]
    }
   ],
   "source": [
    "coffee_survey.info()"
   ]
  },
  {
   "cell_type": "code",
   "execution_count": 7,
   "metadata": {},
   "outputs": [
    {
     "data": {
      "text/html": [
       "<div>\n",
       "<style scoped>\n",
       "    .dataframe tbody tr th:only-of-type {\n",
       "        vertical-align: middle;\n",
       "    }\n",
       "\n",
       "    .dataframe tbody tr th {\n",
       "        vertical-align: top;\n",
       "    }\n",
       "\n",
       "    .dataframe thead th {\n",
       "        text-align: right;\n",
       "    }\n",
       "</style>\n",
       "<table border=\"1\" class=\"dataframe\">\n",
       "  <thead>\n",
       "    <tr style=\"text-align: right;\">\n",
       "      <th></th>\n",
       "      <th>expertise</th>\n",
       "      <th>coffee_a_bitterness</th>\n",
       "      <th>coffee_a_acidity</th>\n",
       "      <th>coffee_a_personal_preference</th>\n",
       "      <th>coffee_b_bitterness</th>\n",
       "      <th>coffee_b_acidity</th>\n",
       "      <th>coffee_b_personal_preference</th>\n",
       "      <th>coffee_c_bitterness</th>\n",
       "      <th>coffee_c_acidity</th>\n",
       "      <th>coffee_c_personal_preference</th>\n",
       "      <th>coffee_d_bitterness</th>\n",
       "      <th>coffee_d_acidity</th>\n",
       "      <th>coffee_d_personal_preference</th>\n",
       "    </tr>\n",
       "  </thead>\n",
       "  <tbody>\n",
       "    <tr>\n",
       "      <th>count</th>\n",
       "      <td>3938.000000</td>\n",
       "      <td>3798.000000</td>\n",
       "      <td>3779.000000</td>\n",
       "      <td>3789.000000</td>\n",
       "      <td>3780.000000</td>\n",
       "      <td>3767.000000</td>\n",
       "      <td>3773.000000</td>\n",
       "      <td>3764.000000</td>\n",
       "      <td>3751.000000</td>\n",
       "      <td>3766.000000</td>\n",
       "      <td>3767.000000</td>\n",
       "      <td>3765.000000</td>\n",
       "      <td>3764.000000</td>\n",
       "    </tr>\n",
       "    <tr>\n",
       "      <th>mean</th>\n",
       "      <td>5.693499</td>\n",
       "      <td>2.141127</td>\n",
       "      <td>3.634824</td>\n",
       "      <td>3.310900</td>\n",
       "      <td>3.013228</td>\n",
       "      <td>2.223786</td>\n",
       "      <td>3.068646</td>\n",
       "      <td>3.071998</td>\n",
       "      <td>2.366836</td>\n",
       "      <td>3.064790</td>\n",
       "      <td>2.162729</td>\n",
       "      <td>3.858167</td>\n",
       "      <td>3.375930</td>\n",
       "    </tr>\n",
       "    <tr>\n",
       "      <th>std</th>\n",
       "      <td>1.948867</td>\n",
       "      <td>0.947163</td>\n",
       "      <td>0.982113</td>\n",
       "      <td>1.185953</td>\n",
       "      <td>0.992875</td>\n",
       "      <td>0.865389</td>\n",
       "      <td>1.113546</td>\n",
       "      <td>0.999267</td>\n",
       "      <td>0.921048</td>\n",
       "      <td>1.128431</td>\n",
       "      <td>1.081546</td>\n",
       "      <td>1.007973</td>\n",
       "      <td>1.452504</td>\n",
       "    </tr>\n",
       "    <tr>\n",
       "      <th>min</th>\n",
       "      <td>1.000000</td>\n",
       "      <td>1.000000</td>\n",
       "      <td>1.000000</td>\n",
       "      <td>1.000000</td>\n",
       "      <td>1.000000</td>\n",
       "      <td>1.000000</td>\n",
       "      <td>1.000000</td>\n",
       "      <td>1.000000</td>\n",
       "      <td>1.000000</td>\n",
       "      <td>1.000000</td>\n",
       "      <td>1.000000</td>\n",
       "      <td>1.000000</td>\n",
       "      <td>1.000000</td>\n",
       "    </tr>\n",
       "    <tr>\n",
       "      <th>25%</th>\n",
       "      <td>5.000000</td>\n",
       "      <td>1.000000</td>\n",
       "      <td>3.000000</td>\n",
       "      <td>2.000000</td>\n",
       "      <td>2.000000</td>\n",
       "      <td>2.000000</td>\n",
       "      <td>2.000000</td>\n",
       "      <td>2.000000</td>\n",
       "      <td>2.000000</td>\n",
       "      <td>2.000000</td>\n",
       "      <td>1.000000</td>\n",
       "      <td>3.000000</td>\n",
       "      <td>2.000000</td>\n",
       "    </tr>\n",
       "    <tr>\n",
       "      <th>50%</th>\n",
       "      <td>6.000000</td>\n",
       "      <td>2.000000</td>\n",
       "      <td>4.000000</td>\n",
       "      <td>3.000000</td>\n",
       "      <td>3.000000</td>\n",
       "      <td>2.000000</td>\n",
       "      <td>3.000000</td>\n",
       "      <td>3.000000</td>\n",
       "      <td>2.000000</td>\n",
       "      <td>3.000000</td>\n",
       "      <td>2.000000</td>\n",
       "      <td>4.000000</td>\n",
       "      <td>4.000000</td>\n",
       "    </tr>\n",
       "    <tr>\n",
       "      <th>75%</th>\n",
       "      <td>7.000000</td>\n",
       "      <td>3.000000</td>\n",
       "      <td>4.000000</td>\n",
       "      <td>4.000000</td>\n",
       "      <td>4.000000</td>\n",
       "      <td>3.000000</td>\n",
       "      <td>4.000000</td>\n",
       "      <td>4.000000</td>\n",
       "      <td>3.000000</td>\n",
       "      <td>4.000000</td>\n",
       "      <td>3.000000</td>\n",
       "      <td>5.000000</td>\n",
       "      <td>5.000000</td>\n",
       "    </tr>\n",
       "    <tr>\n",
       "      <th>max</th>\n",
       "      <td>10.000000</td>\n",
       "      <td>5.000000</td>\n",
       "      <td>5.000000</td>\n",
       "      <td>5.000000</td>\n",
       "      <td>5.000000</td>\n",
       "      <td>5.000000</td>\n",
       "      <td>5.000000</td>\n",
       "      <td>5.000000</td>\n",
       "      <td>5.000000</td>\n",
       "      <td>5.000000</td>\n",
       "      <td>5.000000</td>\n",
       "      <td>5.000000</td>\n",
       "      <td>5.000000</td>\n",
       "    </tr>\n",
       "  </tbody>\n",
       "</table>\n",
       "</div>"
      ],
      "text/plain": [
       "         expertise  coffee_a_bitterness  coffee_a_acidity  \\\n",
       "count  3938.000000          3798.000000       3779.000000   \n",
       "mean      5.693499             2.141127          3.634824   \n",
       "std       1.948867             0.947163          0.982113   \n",
       "min       1.000000             1.000000          1.000000   \n",
       "25%       5.000000             1.000000          3.000000   \n",
       "50%       6.000000             2.000000          4.000000   \n",
       "75%       7.000000             3.000000          4.000000   \n",
       "max      10.000000             5.000000          5.000000   \n",
       "\n",
       "       coffee_a_personal_preference  coffee_b_bitterness  coffee_b_acidity  \\\n",
       "count                   3789.000000          3780.000000       3767.000000   \n",
       "mean                       3.310900             3.013228          2.223786   \n",
       "std                        1.185953             0.992875          0.865389   \n",
       "min                        1.000000             1.000000          1.000000   \n",
       "25%                        2.000000             2.000000          2.000000   \n",
       "50%                        3.000000             3.000000          2.000000   \n",
       "75%                        4.000000             4.000000          3.000000   \n",
       "max                        5.000000             5.000000          5.000000   \n",
       "\n",
       "       coffee_b_personal_preference  coffee_c_bitterness  coffee_c_acidity  \\\n",
       "count                   3773.000000          3764.000000       3751.000000   \n",
       "mean                       3.068646             3.071998          2.366836   \n",
       "std                        1.113546             0.999267          0.921048   \n",
       "min                        1.000000             1.000000          1.000000   \n",
       "25%                        2.000000             2.000000          2.000000   \n",
       "50%                        3.000000             3.000000          2.000000   \n",
       "75%                        4.000000             4.000000          3.000000   \n",
       "max                        5.000000             5.000000          5.000000   \n",
       "\n",
       "       coffee_c_personal_preference  coffee_d_bitterness  coffee_d_acidity  \\\n",
       "count                   3766.000000          3767.000000       3765.000000   \n",
       "mean                       3.064790             2.162729          3.858167   \n",
       "std                        1.128431             1.081546          1.007973   \n",
       "min                        1.000000             1.000000          1.000000   \n",
       "25%                        2.000000             1.000000          3.000000   \n",
       "50%                        3.000000             2.000000          4.000000   \n",
       "75%                        4.000000             3.000000          5.000000   \n",
       "max                        5.000000             5.000000          5.000000   \n",
       "\n",
       "       coffee_d_personal_preference  \n",
       "count                   3764.000000  \n",
       "mean                       3.375930  \n",
       "std                        1.452504  \n",
       "min                        1.000000  \n",
       "25%                        2.000000  \n",
       "50%                        4.000000  \n",
       "75%                        5.000000  \n",
       "max                        5.000000  "
      ]
     },
     "execution_count": 7,
     "metadata": {},
     "output_type": "execute_result"
    }
   ],
   "source": [
    "coffee_survey.describe()"
   ]
  },
  {
   "cell_type": "code",
   "execution_count": 11,
   "metadata": {},
   "outputs": [
    {
     "data": {
      "text/plain": [
       "array(['Regular drip coffee', 'Iced coffee', 'Latte', 'Pourover', nan,\n",
       "       'Other', 'Cortado', 'Cappuccino', 'Espresso', 'Cold brew',\n",
       "       'Americano', 'Mocha', 'Blended drink (e.g. Frappuccino)'],\n",
       "      dtype=object)"
      ]
     },
     "execution_count": 11,
     "metadata": {},
     "output_type": "execute_result"
    }
   ],
   "source": [
    "coffee_survey[\"favorite\"].unique()"
   ]
  },
  {
   "cell_type": "code",
   "execution_count": 12,
   "metadata": {},
   "outputs": [
    {
     "data": {
      "text/plain": [
       "array(['18-24 years old', '25-34 years old', '35-44 years old',\n",
       "       '55-64 years old', nan, '<18 years old', '>65 years old',\n",
       "       '45-54 years old'], dtype=object)"
      ]
     },
     "execution_count": 12,
     "metadata": {},
     "output_type": "execute_result"
    }
   ],
   "source": [
    "coffee_survey[\"age\"].unique()"
   ]
  },
  {
   "cell_type": "markdown",
   "metadata": {},
   "source": [
    "#### Plot"
   ]
  },
  {
   "cell_type": "code",
   "execution_count": 5,
   "metadata": {},
   "outputs": [],
   "source": [
    "plot_data = coffee_survey[[\"age\", \"favorite\"]].dropna()"
   ]
  },
  {
   "cell_type": "code",
   "execution_count": 8,
   "metadata": {},
   "outputs": [
    {
     "data": {
      "text/html": [
       "<div>\n",
       "<style scoped>\n",
       "    .dataframe tbody tr th:only-of-type {\n",
       "        vertical-align: middle;\n",
       "    }\n",
       "\n",
       "    .dataframe tbody tr th {\n",
       "        vertical-align: top;\n",
       "    }\n",
       "\n",
       "    .dataframe thead th {\n",
       "        text-align: right;\n",
       "    }\n",
       "</style>\n",
       "<table border=\"1\" class=\"dataframe\">\n",
       "  <thead>\n",
       "    <tr style=\"text-align: right;\">\n",
       "      <th></th>\n",
       "      <th>age</th>\n",
       "      <th>favorite</th>\n",
       "    </tr>\n",
       "  </thead>\n",
       "  <tbody>\n",
       "    <tr>\n",
       "      <th>0</th>\n",
       "      <td>18-24 years old</td>\n",
       "      <td>Regular drip coffee</td>\n",
       "    </tr>\n",
       "    <tr>\n",
       "      <th>1</th>\n",
       "      <td>25-34 years old</td>\n",
       "      <td>Iced coffee</td>\n",
       "    </tr>\n",
       "    <tr>\n",
       "      <th>2</th>\n",
       "      <td>25-34 years old</td>\n",
       "      <td>Regular drip coffee</td>\n",
       "    </tr>\n",
       "    <tr>\n",
       "      <th>3</th>\n",
       "      <td>35-44 years old</td>\n",
       "      <td>Iced coffee</td>\n",
       "    </tr>\n",
       "    <tr>\n",
       "      <th>4</th>\n",
       "      <td>25-34 years old</td>\n",
       "      <td>Latte</td>\n",
       "    </tr>\n",
       "    <tr>\n",
       "      <th>...</th>\n",
       "      <td>...</td>\n",
       "      <td>...</td>\n",
       "    </tr>\n",
       "    <tr>\n",
       "      <th>4037</th>\n",
       "      <td>&gt;65 years old</td>\n",
       "      <td>Regular drip coffee</td>\n",
       "    </tr>\n",
       "    <tr>\n",
       "      <th>4038</th>\n",
       "      <td>&gt;65 years old</td>\n",
       "      <td>Regular drip coffee</td>\n",
       "    </tr>\n",
       "    <tr>\n",
       "      <th>4039</th>\n",
       "      <td>18-24 years old</td>\n",
       "      <td>Latte</td>\n",
       "    </tr>\n",
       "    <tr>\n",
       "      <th>4040</th>\n",
       "      <td>25-34 years old</td>\n",
       "      <td>Iced coffee</td>\n",
       "    </tr>\n",
       "    <tr>\n",
       "      <th>4041</th>\n",
       "      <td>25-34 years old</td>\n",
       "      <td>Latte</td>\n",
       "    </tr>\n",
       "  </tbody>\n",
       "</table>\n",
       "<p>3969 rows × 2 columns</p>\n",
       "</div>"
      ],
      "text/plain": [
       "                  age             favorite\n",
       "0     18-24 years old  Regular drip coffee\n",
       "1     25-34 years old          Iced coffee\n",
       "2     25-34 years old  Regular drip coffee\n",
       "3     35-44 years old          Iced coffee\n",
       "4     25-34 years old                Latte\n",
       "...               ...                  ...\n",
       "4037    >65 years old  Regular drip coffee\n",
       "4038    >65 years old  Regular drip coffee\n",
       "4039  18-24 years old                Latte\n",
       "4040  25-34 years old          Iced coffee\n",
       "4041  25-34 years old                Latte\n",
       "\n",
       "[3969 rows x 2 columns]"
      ]
     },
     "execution_count": 8,
     "metadata": {},
     "output_type": "execute_result"
    }
   ],
   "source": [
    "plot_data"
   ]
  },
  {
   "cell_type": "code",
   "execution_count": 33,
   "metadata": {},
   "outputs": [
    {
     "data": {
      "text/plain": [
       "Index(['Americano', 'Blended drink (e.g. Frappuccino)', 'Cappuccino',\n",
       "       'Cold brew', 'Cortado', 'Espresso', 'Iced coffee', 'Latte', 'Mocha',\n",
       "       'Other', 'Pourover', 'Regular drip coffee'],\n",
       "      dtype='object', name='favorite')"
      ]
     },
     "execution_count": 33,
     "metadata": {},
     "output_type": "execute_result"
    }
   ],
   "source": [
    "counts_sorted.columns[:-1]"
   ]
  },
  {
   "cell_type": "code",
   "execution_count": 34,
   "metadata": {},
   "outputs": [
    {
     "data": {
      "text/html": [
       "<div>\n",
       "<style scoped>\n",
       "    .dataframe tbody tr th:only-of-type {\n",
       "        vertical-align: middle;\n",
       "    }\n",
       "\n",
       "    .dataframe tbody tr th {\n",
       "        vertical-align: top;\n",
       "    }\n",
       "\n",
       "    .dataframe thead th {\n",
       "        text-align: right;\n",
       "    }\n",
       "</style>\n",
       "<table border=\"1\" class=\"dataframe\">\n",
       "  <thead>\n",
       "    <tr style=\"text-align: right;\">\n",
       "      <th>favorite</th>\n",
       "      <th>Total</th>\n",
       "      <th>Pourover</th>\n",
       "      <th>Latte</th>\n",
       "      <th>Regular drip coffee</th>\n",
       "      <th>Cortado</th>\n",
       "      <th>Cappuccino</th>\n",
       "      <th>Espresso</th>\n",
       "      <th>Americano</th>\n",
       "      <th>Iced coffee</th>\n",
       "      <th>Cold brew</th>\n",
       "      <th>Mocha</th>\n",
       "      <th>Other</th>\n",
       "      <th>Blended drink (e.g. Frappuccino)</th>\n",
       "    </tr>\n",
       "    <tr>\n",
       "      <th>age</th>\n",
       "      <th></th>\n",
       "      <th></th>\n",
       "      <th></th>\n",
       "      <th></th>\n",
       "      <th></th>\n",
       "      <th></th>\n",
       "      <th></th>\n",
       "      <th></th>\n",
       "      <th></th>\n",
       "      <th></th>\n",
       "      <th></th>\n",
       "      <th></th>\n",
       "      <th></th>\n",
       "    </tr>\n",
       "  </thead>\n",
       "  <tbody>\n",
       "    <tr>\n",
       "      <th>&lt;18 years old</th>\n",
       "      <td>19</td>\n",
       "      <td>5</td>\n",
       "      <td>8</td>\n",
       "      <td>2</td>\n",
       "      <td>0</td>\n",
       "      <td>1</td>\n",
       "      <td>1</td>\n",
       "      <td>0</td>\n",
       "      <td>0</td>\n",
       "      <td>0</td>\n",
       "      <td>0</td>\n",
       "      <td>1</td>\n",
       "      <td>1</td>\n",
       "    </tr>\n",
       "    <tr>\n",
       "      <th>&gt;65 years old</th>\n",
       "      <td>94</td>\n",
       "      <td>17</td>\n",
       "      <td>13</td>\n",
       "      <td>32</td>\n",
       "      <td>2</td>\n",
       "      <td>8</td>\n",
       "      <td>8</td>\n",
       "      <td>1</td>\n",
       "      <td>1</td>\n",
       "      <td>1</td>\n",
       "      <td>3</td>\n",
       "      <td>8</td>\n",
       "      <td>0</td>\n",
       "    </tr>\n",
       "    <tr>\n",
       "      <th>55-64 years old</th>\n",
       "      <td>184</td>\n",
       "      <td>38</td>\n",
       "      <td>32</td>\n",
       "      <td>40</td>\n",
       "      <td>8</td>\n",
       "      <td>17</td>\n",
       "      <td>13</td>\n",
       "      <td>10</td>\n",
       "      <td>6</td>\n",
       "      <td>3</td>\n",
       "      <td>6</td>\n",
       "      <td>10</td>\n",
       "      <td>1</td>\n",
       "    </tr>\n",
       "    <tr>\n",
       "      <th>45-54 years old</th>\n",
       "      <td>299</td>\n",
       "      <td>78</td>\n",
       "      <td>46</td>\n",
       "      <td>41</td>\n",
       "      <td>15</td>\n",
       "      <td>31</td>\n",
       "      <td>27</td>\n",
       "      <td>25</td>\n",
       "      <td>8</td>\n",
       "      <td>5</td>\n",
       "      <td>11</td>\n",
       "      <td>9</td>\n",
       "      <td>3</td>\n",
       "    </tr>\n",
       "    <tr>\n",
       "      <th>18-24 years old</th>\n",
       "      <td>448</td>\n",
       "      <td>103</td>\n",
       "      <td>81</td>\n",
       "      <td>36</td>\n",
       "      <td>40</td>\n",
       "      <td>32</td>\n",
       "      <td>38</td>\n",
       "      <td>26</td>\n",
       "      <td>30</td>\n",
       "      <td>18</td>\n",
       "      <td>21</td>\n",
       "      <td>12</td>\n",
       "      <td>11</td>\n",
       "    </tr>\n",
       "    <tr>\n",
       "      <th>35-44 years old</th>\n",
       "      <td>954</td>\n",
       "      <td>273</td>\n",
       "      <td>152</td>\n",
       "      <td>95</td>\n",
       "      <td>73</td>\n",
       "      <td>84</td>\n",
       "      <td>84</td>\n",
       "      <td>75</td>\n",
       "      <td>29</td>\n",
       "      <td>26</td>\n",
       "      <td>26</td>\n",
       "      <td>22</td>\n",
       "      <td>15</td>\n",
       "    </tr>\n",
       "    <tr>\n",
       "      <th>25-34 years old</th>\n",
       "      <td>1971</td>\n",
       "      <td>566</td>\n",
       "      <td>347</td>\n",
       "      <td>196</td>\n",
       "      <td>172</td>\n",
       "      <td>168</td>\n",
       "      <td>158</td>\n",
       "      <td>111</td>\n",
       "      <td>82</td>\n",
       "      <td>56</td>\n",
       "      <td>51</td>\n",
       "      <td>50</td>\n",
       "      <td>14</td>\n",
       "    </tr>\n",
       "  </tbody>\n",
       "</table>\n",
       "</div>"
      ],
      "text/plain": [
       "favorite         Total  Pourover  Latte  Regular drip coffee  Cortado  \\\n",
       "age                                                                     \n",
       "<18 years old       19         5      8                    2        0   \n",
       ">65 years old       94        17     13                   32        2   \n",
       "55-64 years old    184        38     32                   40        8   \n",
       "45-54 years old    299        78     46                   41       15   \n",
       "18-24 years old    448       103     81                   36       40   \n",
       "35-44 years old    954       273    152                   95       73   \n",
       "25-34 years old   1971       566    347                  196      172   \n",
       "\n",
       "favorite         Cappuccino  Espresso  Americano  Iced coffee  Cold brew  \\\n",
       "age                                                                        \n",
       "<18 years old             1         1          0            0          0   \n",
       ">65 years old             8         8          1            1          1   \n",
       "55-64 years old          17        13         10            6          3   \n",
       "45-54 years old          31        27         25            8          5   \n",
       "18-24 years old          32        38         26           30         18   \n",
       "35-44 years old          84        84         75           29         26   \n",
       "25-34 years old         168       158        111           82         56   \n",
       "\n",
       "favorite         Mocha  Other  Blended drink (e.g. Frappuccino)  \n",
       "age                                                              \n",
       "<18 years old        0      1                                 1  \n",
       ">65 years old        3      8                                 0  \n",
       "55-64 years old      6     10                                 1  \n",
       "45-54 years old     11      9                                 3  \n",
       "18-24 years old     21     12                                11  \n",
       "35-44 years old     26     22                                15  \n",
       "25-34 years old     51     50                                14  "
      ]
     },
     "execution_count": 34,
     "metadata": {},
     "output_type": "execute_result"
    }
   ],
   "source": [
    "counts_sorted.reindex(columns=age_25_34.index.tolist())"
   ]
  },
  {
   "cell_type": "code",
   "execution_count": 38,
   "metadata": {},
   "outputs": [],
   "source": [
    "coffee_colors_hex = [\n",
    "    '#3e2723',  # Dark Brown\n",
    "    '#795548',  # Medium Brown\n",
    "    '#a1887f',  # Light Brown\n",
    "    '#d2b48c',  # Tan\n",
    "    '#fffdd0',  # Cream\n",
    "    '#f5f5dc',  # Beige\n",
    "    '#211f1f',  # Espresso (Very Dark Brown)\n",
    "    '#ffb74d',  # Caramel\n",
    "    '#4e342e',  # Mocha\n",
    "    '#faf0e6',  # Latte (Light Beige)\n",
    "    '#8d6e63'   # Hazelnut (Warm Brown)\n",
    "]"
   ]
  },
  {
   "cell_type": "code",
   "execution_count": 44,
   "metadata": {},
   "outputs": [
    {
     "data": {
      "text/plain": [
       "Index(['Total', 'Pourover', 'Latte', 'Regular drip coffee', 'Cortado',\n",
       "       'Cappuccino', 'Espresso', 'Americano', 'Iced coffee', 'Cold brew',\n",
       "       'Mocha', 'Other'],\n",
       "      dtype='object', name='favorite')"
      ]
     },
     "execution_count": 44,
     "metadata": {},
     "output_type": "execute_result"
    }
   ],
   "source": [
    "counts_sorted.columns[:-1]"
   ]
  },
  {
   "cell_type": "code",
   "execution_count": 82,
   "metadata": {},
   "outputs": [
    {
     "data": {
      "application/vnd.plotly.v1+json": {
       "config": {
        "plotlyServerURL": "https://plot.ly"
       },
       "data": [
        {
         "marker": {
          "color": "#3e2723"
         },
         "name": "Pourover",
         "orientation": "h",
         "type": "bar",
         "x": [
          5,
          17,
          38,
          78,
          103,
          273,
          566
         ],
         "y": [
          "<18 years old",
          ">65 years old",
          "55-64 years old",
          "45-54 years old",
          "18-24 years old",
          "35-44 years old",
          "25-34 years old"
         ]
        },
        {
         "marker": {
          "color": "#795548"
         },
         "name": "Latte",
         "orientation": "h",
         "type": "bar",
         "x": [
          8,
          13,
          32,
          46,
          81,
          152,
          347
         ],
         "y": [
          "<18 years old",
          ">65 years old",
          "55-64 years old",
          "45-54 years old",
          "18-24 years old",
          "35-44 years old",
          "25-34 years old"
         ]
        },
        {
         "marker": {
          "color": "#a1887f"
         },
         "name": "Regular drip coffee",
         "orientation": "h",
         "type": "bar",
         "x": [
          2,
          32,
          40,
          41,
          36,
          95,
          196
         ],
         "y": [
          "<18 years old",
          ">65 years old",
          "55-64 years old",
          "45-54 years old",
          "18-24 years old",
          "35-44 years old",
          "25-34 years old"
         ]
        },
        {
         "marker": {
          "color": "#d2b48c"
         },
         "name": "Cortado",
         "orientation": "h",
         "type": "bar",
         "x": [
          0,
          2,
          8,
          15,
          40,
          73,
          172
         ],
         "y": [
          "<18 years old",
          ">65 years old",
          "55-64 years old",
          "45-54 years old",
          "18-24 years old",
          "35-44 years old",
          "25-34 years old"
         ]
        },
        {
         "marker": {
          "color": "#fffdd0"
         },
         "name": "Cappuccino",
         "orientation": "h",
         "type": "bar",
         "x": [
          1,
          8,
          17,
          31,
          32,
          84,
          168
         ],
         "y": [
          "<18 years old",
          ">65 years old",
          "55-64 years old",
          "45-54 years old",
          "18-24 years old",
          "35-44 years old",
          "25-34 years old"
         ]
        },
        {
         "marker": {
          "color": "#f5f5dc"
         },
         "name": "Espresso",
         "orientation": "h",
         "type": "bar",
         "x": [
          1,
          8,
          13,
          27,
          38,
          84,
          158
         ],
         "y": [
          "<18 years old",
          ">65 years old",
          "55-64 years old",
          "45-54 years old",
          "18-24 years old",
          "35-44 years old",
          "25-34 years old"
         ]
        },
        {
         "marker": {
          "color": "#211f1f"
         },
         "name": "Americano",
         "orientation": "h",
         "type": "bar",
         "x": [
          0,
          1,
          10,
          25,
          26,
          75,
          111
         ],
         "y": [
          "<18 years old",
          ">65 years old",
          "55-64 years old",
          "45-54 years old",
          "18-24 years old",
          "35-44 years old",
          "25-34 years old"
         ]
        },
        {
         "marker": {
          "color": "#ffb74d"
         },
         "name": "Iced coffee",
         "orientation": "h",
         "type": "bar",
         "x": [
          0,
          1,
          6,
          8,
          30,
          29,
          82
         ],
         "y": [
          "<18 years old",
          ">65 years old",
          "55-64 years old",
          "45-54 years old",
          "18-24 years old",
          "35-44 years old",
          "25-34 years old"
         ]
        },
        {
         "marker": {
          "color": "#4e342e"
         },
         "name": "Cold brew",
         "orientation": "h",
         "type": "bar",
         "x": [
          0,
          1,
          3,
          5,
          18,
          26,
          56
         ],
         "y": [
          "<18 years old",
          ">65 years old",
          "55-64 years old",
          "45-54 years old",
          "18-24 years old",
          "35-44 years old",
          "25-34 years old"
         ]
        },
        {
         "marker": {
          "color": "#faf0e6"
         },
         "name": "Mocha",
         "orientation": "h",
         "type": "bar",
         "x": [
          0,
          3,
          6,
          11,
          21,
          26,
          51
         ],
         "y": [
          "<18 years old",
          ">65 years old",
          "55-64 years old",
          "45-54 years old",
          "18-24 years old",
          "35-44 years old",
          "25-34 years old"
         ]
        },
        {
         "marker": {
          "color": "#8d6e63"
         },
         "name": "Other",
         "orientation": "h",
         "type": "bar",
         "x": [
          1,
          8,
          10,
          9,
          12,
          22,
          50
         ],
         "y": [
          "<18 years old",
          ">65 years old",
          "55-64 years old",
          "45-54 years old",
          "18-24 years old",
          "35-44 years old",
          "25-34 years old"
         ]
        }
       ],
       "layout": {
        "annotations": [
         {
          "align": "left",
          "showarrow": false,
          "text": "<b>TidyTuesday</b>: 2024-05-14 <b>Data</b>: Cometeer <b>github:</b> kayleahaynes",
          "x": 1,
          "xref": "paper",
          "y": -0.15,
          "yref": "paper"
         }
        ],
        "barmode": "stack",
        "height": 1000,
        "legend": {
         "title": {
          "text": "Favorite Coffee"
         }
        },
        "margin": {
         "b": 150,
         "l": 50,
         "r": 50,
         "t": 50
        },
        "paper_bgcolor": "white",
        "plot_bgcolor": "white",
        "template": {
         "data": {
          "bar": [
           {
            "error_x": {
             "color": "#2a3f5f"
            },
            "error_y": {
             "color": "#2a3f5f"
            },
            "marker": {
             "line": {
              "color": "#E5ECF6",
              "width": 0.5
             },
             "pattern": {
              "fillmode": "overlay",
              "size": 10,
              "solidity": 0.2
             }
            },
            "type": "bar"
           }
          ],
          "barpolar": [
           {
            "marker": {
             "line": {
              "color": "#E5ECF6",
              "width": 0.5
             },
             "pattern": {
              "fillmode": "overlay",
              "size": 10,
              "solidity": 0.2
             }
            },
            "type": "barpolar"
           }
          ],
          "carpet": [
           {
            "aaxis": {
             "endlinecolor": "#2a3f5f",
             "gridcolor": "white",
             "linecolor": "white",
             "minorgridcolor": "white",
             "startlinecolor": "#2a3f5f"
            },
            "baxis": {
             "endlinecolor": "#2a3f5f",
             "gridcolor": "white",
             "linecolor": "white",
             "minorgridcolor": "white",
             "startlinecolor": "#2a3f5f"
            },
            "type": "carpet"
           }
          ],
          "choropleth": [
           {
            "colorbar": {
             "outlinewidth": 0,
             "ticks": ""
            },
            "type": "choropleth"
           }
          ],
          "contour": [
           {
            "colorbar": {
             "outlinewidth": 0,
             "ticks": ""
            },
            "colorscale": [
             [
              0,
              "#0d0887"
             ],
             [
              0.1111111111111111,
              "#46039f"
             ],
             [
              0.2222222222222222,
              "#7201a8"
             ],
             [
              0.3333333333333333,
              "#9c179e"
             ],
             [
              0.4444444444444444,
              "#bd3786"
             ],
             [
              0.5555555555555556,
              "#d8576b"
             ],
             [
              0.6666666666666666,
              "#ed7953"
             ],
             [
              0.7777777777777778,
              "#fb9f3a"
             ],
             [
              0.8888888888888888,
              "#fdca26"
             ],
             [
              1,
              "#f0f921"
             ]
            ],
            "type": "contour"
           }
          ],
          "contourcarpet": [
           {
            "colorbar": {
             "outlinewidth": 0,
             "ticks": ""
            },
            "type": "contourcarpet"
           }
          ],
          "heatmap": [
           {
            "colorbar": {
             "outlinewidth": 0,
             "ticks": ""
            },
            "colorscale": [
             [
              0,
              "#0d0887"
             ],
             [
              0.1111111111111111,
              "#46039f"
             ],
             [
              0.2222222222222222,
              "#7201a8"
             ],
             [
              0.3333333333333333,
              "#9c179e"
             ],
             [
              0.4444444444444444,
              "#bd3786"
             ],
             [
              0.5555555555555556,
              "#d8576b"
             ],
             [
              0.6666666666666666,
              "#ed7953"
             ],
             [
              0.7777777777777778,
              "#fb9f3a"
             ],
             [
              0.8888888888888888,
              "#fdca26"
             ],
             [
              1,
              "#f0f921"
             ]
            ],
            "type": "heatmap"
           }
          ],
          "heatmapgl": [
           {
            "colorbar": {
             "outlinewidth": 0,
             "ticks": ""
            },
            "colorscale": [
             [
              0,
              "#0d0887"
             ],
             [
              0.1111111111111111,
              "#46039f"
             ],
             [
              0.2222222222222222,
              "#7201a8"
             ],
             [
              0.3333333333333333,
              "#9c179e"
             ],
             [
              0.4444444444444444,
              "#bd3786"
             ],
             [
              0.5555555555555556,
              "#d8576b"
             ],
             [
              0.6666666666666666,
              "#ed7953"
             ],
             [
              0.7777777777777778,
              "#fb9f3a"
             ],
             [
              0.8888888888888888,
              "#fdca26"
             ],
             [
              1,
              "#f0f921"
             ]
            ],
            "type": "heatmapgl"
           }
          ],
          "histogram": [
           {
            "marker": {
             "pattern": {
              "fillmode": "overlay",
              "size": 10,
              "solidity": 0.2
             }
            },
            "type": "histogram"
           }
          ],
          "histogram2d": [
           {
            "colorbar": {
             "outlinewidth": 0,
             "ticks": ""
            },
            "colorscale": [
             [
              0,
              "#0d0887"
             ],
             [
              0.1111111111111111,
              "#46039f"
             ],
             [
              0.2222222222222222,
              "#7201a8"
             ],
             [
              0.3333333333333333,
              "#9c179e"
             ],
             [
              0.4444444444444444,
              "#bd3786"
             ],
             [
              0.5555555555555556,
              "#d8576b"
             ],
             [
              0.6666666666666666,
              "#ed7953"
             ],
             [
              0.7777777777777778,
              "#fb9f3a"
             ],
             [
              0.8888888888888888,
              "#fdca26"
             ],
             [
              1,
              "#f0f921"
             ]
            ],
            "type": "histogram2d"
           }
          ],
          "histogram2dcontour": [
           {
            "colorbar": {
             "outlinewidth": 0,
             "ticks": ""
            },
            "colorscale": [
             [
              0,
              "#0d0887"
             ],
             [
              0.1111111111111111,
              "#46039f"
             ],
             [
              0.2222222222222222,
              "#7201a8"
             ],
             [
              0.3333333333333333,
              "#9c179e"
             ],
             [
              0.4444444444444444,
              "#bd3786"
             ],
             [
              0.5555555555555556,
              "#d8576b"
             ],
             [
              0.6666666666666666,
              "#ed7953"
             ],
             [
              0.7777777777777778,
              "#fb9f3a"
             ],
             [
              0.8888888888888888,
              "#fdca26"
             ],
             [
              1,
              "#f0f921"
             ]
            ],
            "type": "histogram2dcontour"
           }
          ],
          "mesh3d": [
           {
            "colorbar": {
             "outlinewidth": 0,
             "ticks": ""
            },
            "type": "mesh3d"
           }
          ],
          "parcoords": [
           {
            "line": {
             "colorbar": {
              "outlinewidth": 0,
              "ticks": ""
             }
            },
            "type": "parcoords"
           }
          ],
          "pie": [
           {
            "automargin": true,
            "type": "pie"
           }
          ],
          "scatter": [
           {
            "fillpattern": {
             "fillmode": "overlay",
             "size": 10,
             "solidity": 0.2
            },
            "type": "scatter"
           }
          ],
          "scatter3d": [
           {
            "line": {
             "colorbar": {
              "outlinewidth": 0,
              "ticks": ""
             }
            },
            "marker": {
             "colorbar": {
              "outlinewidth": 0,
              "ticks": ""
             }
            },
            "type": "scatter3d"
           }
          ],
          "scattercarpet": [
           {
            "marker": {
             "colorbar": {
              "outlinewidth": 0,
              "ticks": ""
             }
            },
            "type": "scattercarpet"
           }
          ],
          "scattergeo": [
           {
            "marker": {
             "colorbar": {
              "outlinewidth": 0,
              "ticks": ""
             }
            },
            "type": "scattergeo"
           }
          ],
          "scattergl": [
           {
            "marker": {
             "colorbar": {
              "outlinewidth": 0,
              "ticks": ""
             }
            },
            "type": "scattergl"
           }
          ],
          "scattermapbox": [
           {
            "marker": {
             "colorbar": {
              "outlinewidth": 0,
              "ticks": ""
             }
            },
            "type": "scattermapbox"
           }
          ],
          "scatterpolar": [
           {
            "marker": {
             "colorbar": {
              "outlinewidth": 0,
              "ticks": ""
             }
            },
            "type": "scatterpolar"
           }
          ],
          "scatterpolargl": [
           {
            "marker": {
             "colorbar": {
              "outlinewidth": 0,
              "ticks": ""
             }
            },
            "type": "scatterpolargl"
           }
          ],
          "scatterternary": [
           {
            "marker": {
             "colorbar": {
              "outlinewidth": 0,
              "ticks": ""
             }
            },
            "type": "scatterternary"
           }
          ],
          "surface": [
           {
            "colorbar": {
             "outlinewidth": 0,
             "ticks": ""
            },
            "colorscale": [
             [
              0,
              "#0d0887"
             ],
             [
              0.1111111111111111,
              "#46039f"
             ],
             [
              0.2222222222222222,
              "#7201a8"
             ],
             [
              0.3333333333333333,
              "#9c179e"
             ],
             [
              0.4444444444444444,
              "#bd3786"
             ],
             [
              0.5555555555555556,
              "#d8576b"
             ],
             [
              0.6666666666666666,
              "#ed7953"
             ],
             [
              0.7777777777777778,
              "#fb9f3a"
             ],
             [
              0.8888888888888888,
              "#fdca26"
             ],
             [
              1,
              "#f0f921"
             ]
            ],
            "type": "surface"
           }
          ],
          "table": [
           {
            "cells": {
             "fill": {
              "color": "#EBF0F8"
             },
             "line": {
              "color": "white"
             }
            },
            "header": {
             "fill": {
              "color": "#C8D4E3"
             },
             "line": {
              "color": "white"
             }
            },
            "type": "table"
           }
          ]
         },
         "layout": {
          "annotationdefaults": {
           "arrowcolor": "#2a3f5f",
           "arrowhead": 0,
           "arrowwidth": 1
          },
          "autotypenumbers": "strict",
          "coloraxis": {
           "colorbar": {
            "outlinewidth": 0,
            "ticks": ""
           }
          },
          "colorscale": {
           "diverging": [
            [
             0,
             "#8e0152"
            ],
            [
             0.1,
             "#c51b7d"
            ],
            [
             0.2,
             "#de77ae"
            ],
            [
             0.3,
             "#f1b6da"
            ],
            [
             0.4,
             "#fde0ef"
            ],
            [
             0.5,
             "#f7f7f7"
            ],
            [
             0.6,
             "#e6f5d0"
            ],
            [
             0.7,
             "#b8e186"
            ],
            [
             0.8,
             "#7fbc41"
            ],
            [
             0.9,
             "#4d9221"
            ],
            [
             1,
             "#276419"
            ]
           ],
           "sequential": [
            [
             0,
             "#0d0887"
            ],
            [
             0.1111111111111111,
             "#46039f"
            ],
            [
             0.2222222222222222,
             "#7201a8"
            ],
            [
             0.3333333333333333,
             "#9c179e"
            ],
            [
             0.4444444444444444,
             "#bd3786"
            ],
            [
             0.5555555555555556,
             "#d8576b"
            ],
            [
             0.6666666666666666,
             "#ed7953"
            ],
            [
             0.7777777777777778,
             "#fb9f3a"
            ],
            [
             0.8888888888888888,
             "#fdca26"
            ],
            [
             1,
             "#f0f921"
            ]
           ],
           "sequentialminus": [
            [
             0,
             "#0d0887"
            ],
            [
             0.1111111111111111,
             "#46039f"
            ],
            [
             0.2222222222222222,
             "#7201a8"
            ],
            [
             0.3333333333333333,
             "#9c179e"
            ],
            [
             0.4444444444444444,
             "#bd3786"
            ],
            [
             0.5555555555555556,
             "#d8576b"
            ],
            [
             0.6666666666666666,
             "#ed7953"
            ],
            [
             0.7777777777777778,
             "#fb9f3a"
            ],
            [
             0.8888888888888888,
             "#fdca26"
            ],
            [
             1,
             "#f0f921"
            ]
           ]
          },
          "colorway": [
           "#636efa",
           "#EF553B",
           "#00cc96",
           "#ab63fa",
           "#FFA15A",
           "#19d3f3",
           "#FF6692",
           "#B6E880",
           "#FF97FF",
           "#FECB52"
          ],
          "font": {
           "color": "#2a3f5f"
          },
          "geo": {
           "bgcolor": "white",
           "lakecolor": "white",
           "landcolor": "#E5ECF6",
           "showlakes": true,
           "showland": true,
           "subunitcolor": "white"
          },
          "hoverlabel": {
           "align": "left"
          },
          "hovermode": "closest",
          "mapbox": {
           "style": "light"
          },
          "paper_bgcolor": "white",
          "plot_bgcolor": "#E5ECF6",
          "polar": {
           "angularaxis": {
            "gridcolor": "white",
            "linecolor": "white",
            "ticks": ""
           },
           "bgcolor": "#E5ECF6",
           "radialaxis": {
            "gridcolor": "white",
            "linecolor": "white",
            "ticks": ""
           }
          },
          "scene": {
           "xaxis": {
            "backgroundcolor": "#E5ECF6",
            "gridcolor": "white",
            "gridwidth": 2,
            "linecolor": "white",
            "showbackground": true,
            "ticks": "",
            "zerolinecolor": "white"
           },
           "yaxis": {
            "backgroundcolor": "#E5ECF6",
            "gridcolor": "white",
            "gridwidth": 2,
            "linecolor": "white",
            "showbackground": true,
            "ticks": "",
            "zerolinecolor": "white"
           },
           "zaxis": {
            "backgroundcolor": "#E5ECF6",
            "gridcolor": "white",
            "gridwidth": 2,
            "linecolor": "white",
            "showbackground": true,
            "ticks": "",
            "zerolinecolor": "white"
           }
          },
          "shapedefaults": {
           "line": {
            "color": "#2a3f5f"
           }
          },
          "ternary": {
           "aaxis": {
            "gridcolor": "white",
            "linecolor": "white",
            "ticks": ""
           },
           "baxis": {
            "gridcolor": "white",
            "linecolor": "white",
            "ticks": ""
           },
           "bgcolor": "#E5ECF6",
           "caxis": {
            "gridcolor": "white",
            "linecolor": "white",
            "ticks": ""
           }
          },
          "title": {
           "x": 0.05
          },
          "xaxis": {
           "automargin": true,
           "gridcolor": "white",
           "linecolor": "white",
           "ticks": "",
           "title": {
            "standoff": 15
           },
           "zerolinecolor": "white",
           "zerolinewidth": 2
          },
          "yaxis": {
           "automargin": true,
           "gridcolor": "white",
           "linecolor": "white",
           "ticks": "",
           "title": {
            "standoff": 15
           },
           "zerolinecolor": "white",
           "zerolinewidth": 2
          }
         }
        },
        "title": {
         "text": "Favorite Coffee by Age Group"
        },
        "xaxis": {
         "title": {
          "text": "Count"
         }
        },
        "yaxis": {
         "title": {
          "text": "Age Group"
         }
        }
       }
      },
      "text/html": [
       "<div>                            <div id=\"d7ca6e2c-a32c-436a-9d52-72530f767e22\" class=\"plotly-graph-div\" style=\"height:1000px; width:100%;\"></div>            <script type=\"text/javascript\">                require([\"plotly\"], function(Plotly) {                    window.PLOTLYENV=window.PLOTLYENV || {};                                    if (document.getElementById(\"d7ca6e2c-a32c-436a-9d52-72530f767e22\")) {                    Plotly.newPlot(                        \"d7ca6e2c-a32c-436a-9d52-72530f767e22\",                        [{\"marker\":{\"color\":\"#3e2723\"},\"name\":\"Pourover\",\"orientation\":\"h\",\"x\":[5,17,38,78,103,273,566],\"y\":[\"\\u003c18 years old\",\"\\u003e65 years old\",\"55-64 years old\",\"45-54 years old\",\"18-24 years old\",\"35-44 years old\",\"25-34 years old\"],\"type\":\"bar\"},{\"marker\":{\"color\":\"#795548\"},\"name\":\"Latte\",\"orientation\":\"h\",\"x\":[8,13,32,46,81,152,347],\"y\":[\"\\u003c18 years old\",\"\\u003e65 years old\",\"55-64 years old\",\"45-54 years old\",\"18-24 years old\",\"35-44 years old\",\"25-34 years old\"],\"type\":\"bar\"},{\"marker\":{\"color\":\"#a1887f\"},\"name\":\"Regular drip coffee\",\"orientation\":\"h\",\"x\":[2,32,40,41,36,95,196],\"y\":[\"\\u003c18 years old\",\"\\u003e65 years old\",\"55-64 years old\",\"45-54 years old\",\"18-24 years old\",\"35-44 years old\",\"25-34 years old\"],\"type\":\"bar\"},{\"marker\":{\"color\":\"#d2b48c\"},\"name\":\"Cortado\",\"orientation\":\"h\",\"x\":[0,2,8,15,40,73,172],\"y\":[\"\\u003c18 years old\",\"\\u003e65 years old\",\"55-64 years old\",\"45-54 years old\",\"18-24 years old\",\"35-44 years old\",\"25-34 years old\"],\"type\":\"bar\"},{\"marker\":{\"color\":\"#fffdd0\"},\"name\":\"Cappuccino\",\"orientation\":\"h\",\"x\":[1,8,17,31,32,84,168],\"y\":[\"\\u003c18 years old\",\"\\u003e65 years old\",\"55-64 years old\",\"45-54 years old\",\"18-24 years old\",\"35-44 years old\",\"25-34 years old\"],\"type\":\"bar\"},{\"marker\":{\"color\":\"#f5f5dc\"},\"name\":\"Espresso\",\"orientation\":\"h\",\"x\":[1,8,13,27,38,84,158],\"y\":[\"\\u003c18 years old\",\"\\u003e65 years old\",\"55-64 years old\",\"45-54 years old\",\"18-24 years old\",\"35-44 years old\",\"25-34 years old\"],\"type\":\"bar\"},{\"marker\":{\"color\":\"#211f1f\"},\"name\":\"Americano\",\"orientation\":\"h\",\"x\":[0,1,10,25,26,75,111],\"y\":[\"\\u003c18 years old\",\"\\u003e65 years old\",\"55-64 years old\",\"45-54 years old\",\"18-24 years old\",\"35-44 years old\",\"25-34 years old\"],\"type\":\"bar\"},{\"marker\":{\"color\":\"#ffb74d\"},\"name\":\"Iced coffee\",\"orientation\":\"h\",\"x\":[0,1,6,8,30,29,82],\"y\":[\"\\u003c18 years old\",\"\\u003e65 years old\",\"55-64 years old\",\"45-54 years old\",\"18-24 years old\",\"35-44 years old\",\"25-34 years old\"],\"type\":\"bar\"},{\"marker\":{\"color\":\"#4e342e\"},\"name\":\"Cold brew\",\"orientation\":\"h\",\"x\":[0,1,3,5,18,26,56],\"y\":[\"\\u003c18 years old\",\"\\u003e65 years old\",\"55-64 years old\",\"45-54 years old\",\"18-24 years old\",\"35-44 years old\",\"25-34 years old\"],\"type\":\"bar\"},{\"marker\":{\"color\":\"#faf0e6\"},\"name\":\"Mocha\",\"orientation\":\"h\",\"x\":[0,3,6,11,21,26,51],\"y\":[\"\\u003c18 years old\",\"\\u003e65 years old\",\"55-64 years old\",\"45-54 years old\",\"18-24 years old\",\"35-44 years old\",\"25-34 years old\"],\"type\":\"bar\"},{\"marker\":{\"color\":\"#8d6e63\"},\"name\":\"Other\",\"orientation\":\"h\",\"x\":[1,8,10,9,12,22,50],\"y\":[\"\\u003c18 years old\",\"\\u003e65 years old\",\"55-64 years old\",\"45-54 years old\",\"18-24 years old\",\"35-44 years old\",\"25-34 years old\"],\"type\":\"bar\"}],                        {\"template\":{\"data\":{\"histogram2dcontour\":[{\"type\":\"histogram2dcontour\",\"colorbar\":{\"outlinewidth\":0,\"ticks\":\"\"},\"colorscale\":[[0.0,\"#0d0887\"],[0.1111111111111111,\"#46039f\"],[0.2222222222222222,\"#7201a8\"],[0.3333333333333333,\"#9c179e\"],[0.4444444444444444,\"#bd3786\"],[0.5555555555555556,\"#d8576b\"],[0.6666666666666666,\"#ed7953\"],[0.7777777777777778,\"#fb9f3a\"],[0.8888888888888888,\"#fdca26\"],[1.0,\"#f0f921\"]]}],\"choropleth\":[{\"type\":\"choropleth\",\"colorbar\":{\"outlinewidth\":0,\"ticks\":\"\"}}],\"histogram2d\":[{\"type\":\"histogram2d\",\"colorbar\":{\"outlinewidth\":0,\"ticks\":\"\"},\"colorscale\":[[0.0,\"#0d0887\"],[0.1111111111111111,\"#46039f\"],[0.2222222222222222,\"#7201a8\"],[0.3333333333333333,\"#9c179e\"],[0.4444444444444444,\"#bd3786\"],[0.5555555555555556,\"#d8576b\"],[0.6666666666666666,\"#ed7953\"],[0.7777777777777778,\"#fb9f3a\"],[0.8888888888888888,\"#fdca26\"],[1.0,\"#f0f921\"]]}],\"heatmap\":[{\"type\":\"heatmap\",\"colorbar\":{\"outlinewidth\":0,\"ticks\":\"\"},\"colorscale\":[[0.0,\"#0d0887\"],[0.1111111111111111,\"#46039f\"],[0.2222222222222222,\"#7201a8\"],[0.3333333333333333,\"#9c179e\"],[0.4444444444444444,\"#bd3786\"],[0.5555555555555556,\"#d8576b\"],[0.6666666666666666,\"#ed7953\"],[0.7777777777777778,\"#fb9f3a\"],[0.8888888888888888,\"#fdca26\"],[1.0,\"#f0f921\"]]}],\"heatmapgl\":[{\"type\":\"heatmapgl\",\"colorbar\":{\"outlinewidth\":0,\"ticks\":\"\"},\"colorscale\":[[0.0,\"#0d0887\"],[0.1111111111111111,\"#46039f\"],[0.2222222222222222,\"#7201a8\"],[0.3333333333333333,\"#9c179e\"],[0.4444444444444444,\"#bd3786\"],[0.5555555555555556,\"#d8576b\"],[0.6666666666666666,\"#ed7953\"],[0.7777777777777778,\"#fb9f3a\"],[0.8888888888888888,\"#fdca26\"],[1.0,\"#f0f921\"]]}],\"contourcarpet\":[{\"type\":\"contourcarpet\",\"colorbar\":{\"outlinewidth\":0,\"ticks\":\"\"}}],\"contour\":[{\"type\":\"contour\",\"colorbar\":{\"outlinewidth\":0,\"ticks\":\"\"},\"colorscale\":[[0.0,\"#0d0887\"],[0.1111111111111111,\"#46039f\"],[0.2222222222222222,\"#7201a8\"],[0.3333333333333333,\"#9c179e\"],[0.4444444444444444,\"#bd3786\"],[0.5555555555555556,\"#d8576b\"],[0.6666666666666666,\"#ed7953\"],[0.7777777777777778,\"#fb9f3a\"],[0.8888888888888888,\"#fdca26\"],[1.0,\"#f0f921\"]]}],\"surface\":[{\"type\":\"surface\",\"colorbar\":{\"outlinewidth\":0,\"ticks\":\"\"},\"colorscale\":[[0.0,\"#0d0887\"],[0.1111111111111111,\"#46039f\"],[0.2222222222222222,\"#7201a8\"],[0.3333333333333333,\"#9c179e\"],[0.4444444444444444,\"#bd3786\"],[0.5555555555555556,\"#d8576b\"],[0.6666666666666666,\"#ed7953\"],[0.7777777777777778,\"#fb9f3a\"],[0.8888888888888888,\"#fdca26\"],[1.0,\"#f0f921\"]]}],\"mesh3d\":[{\"type\":\"mesh3d\",\"colorbar\":{\"outlinewidth\":0,\"ticks\":\"\"}}],\"scatter\":[{\"fillpattern\":{\"fillmode\":\"overlay\",\"size\":10,\"solidity\":0.2},\"type\":\"scatter\"}],\"parcoords\":[{\"type\":\"parcoords\",\"line\":{\"colorbar\":{\"outlinewidth\":0,\"ticks\":\"\"}}}],\"scatterpolargl\":[{\"type\":\"scatterpolargl\",\"marker\":{\"colorbar\":{\"outlinewidth\":0,\"ticks\":\"\"}}}],\"bar\":[{\"error_x\":{\"color\":\"#2a3f5f\"},\"error_y\":{\"color\":\"#2a3f5f\"},\"marker\":{\"line\":{\"color\":\"#E5ECF6\",\"width\":0.5},\"pattern\":{\"fillmode\":\"overlay\",\"size\":10,\"solidity\":0.2}},\"type\":\"bar\"}],\"scattergeo\":[{\"type\":\"scattergeo\",\"marker\":{\"colorbar\":{\"outlinewidth\":0,\"ticks\":\"\"}}}],\"scatterpolar\":[{\"type\":\"scatterpolar\",\"marker\":{\"colorbar\":{\"outlinewidth\":0,\"ticks\":\"\"}}}],\"histogram\":[{\"marker\":{\"pattern\":{\"fillmode\":\"overlay\",\"size\":10,\"solidity\":0.2}},\"type\":\"histogram\"}],\"scattergl\":[{\"type\":\"scattergl\",\"marker\":{\"colorbar\":{\"outlinewidth\":0,\"ticks\":\"\"}}}],\"scatter3d\":[{\"type\":\"scatter3d\",\"line\":{\"colorbar\":{\"outlinewidth\":0,\"ticks\":\"\"}},\"marker\":{\"colorbar\":{\"outlinewidth\":0,\"ticks\":\"\"}}}],\"scattermapbox\":[{\"type\":\"scattermapbox\",\"marker\":{\"colorbar\":{\"outlinewidth\":0,\"ticks\":\"\"}}}],\"scatterternary\":[{\"type\":\"scatterternary\",\"marker\":{\"colorbar\":{\"outlinewidth\":0,\"ticks\":\"\"}}}],\"scattercarpet\":[{\"type\":\"scattercarpet\",\"marker\":{\"colorbar\":{\"outlinewidth\":0,\"ticks\":\"\"}}}],\"carpet\":[{\"aaxis\":{\"endlinecolor\":\"#2a3f5f\",\"gridcolor\":\"white\",\"linecolor\":\"white\",\"minorgridcolor\":\"white\",\"startlinecolor\":\"#2a3f5f\"},\"baxis\":{\"endlinecolor\":\"#2a3f5f\",\"gridcolor\":\"white\",\"linecolor\":\"white\",\"minorgridcolor\":\"white\",\"startlinecolor\":\"#2a3f5f\"},\"type\":\"carpet\"}],\"table\":[{\"cells\":{\"fill\":{\"color\":\"#EBF0F8\"},\"line\":{\"color\":\"white\"}},\"header\":{\"fill\":{\"color\":\"#C8D4E3\"},\"line\":{\"color\":\"white\"}},\"type\":\"table\"}],\"barpolar\":[{\"marker\":{\"line\":{\"color\":\"#E5ECF6\",\"width\":0.5},\"pattern\":{\"fillmode\":\"overlay\",\"size\":10,\"solidity\":0.2}},\"type\":\"barpolar\"}],\"pie\":[{\"automargin\":true,\"type\":\"pie\"}]},\"layout\":{\"autotypenumbers\":\"strict\",\"colorway\":[\"#636efa\",\"#EF553B\",\"#00cc96\",\"#ab63fa\",\"#FFA15A\",\"#19d3f3\",\"#FF6692\",\"#B6E880\",\"#FF97FF\",\"#FECB52\"],\"font\":{\"color\":\"#2a3f5f\"},\"hovermode\":\"closest\",\"hoverlabel\":{\"align\":\"left\"},\"paper_bgcolor\":\"white\",\"plot_bgcolor\":\"#E5ECF6\",\"polar\":{\"bgcolor\":\"#E5ECF6\",\"angularaxis\":{\"gridcolor\":\"white\",\"linecolor\":\"white\",\"ticks\":\"\"},\"radialaxis\":{\"gridcolor\":\"white\",\"linecolor\":\"white\",\"ticks\":\"\"}},\"ternary\":{\"bgcolor\":\"#E5ECF6\",\"aaxis\":{\"gridcolor\":\"white\",\"linecolor\":\"white\",\"ticks\":\"\"},\"baxis\":{\"gridcolor\":\"white\",\"linecolor\":\"white\",\"ticks\":\"\"},\"caxis\":{\"gridcolor\":\"white\",\"linecolor\":\"white\",\"ticks\":\"\"}},\"coloraxis\":{\"colorbar\":{\"outlinewidth\":0,\"ticks\":\"\"}},\"colorscale\":{\"sequential\":[[0.0,\"#0d0887\"],[0.1111111111111111,\"#46039f\"],[0.2222222222222222,\"#7201a8\"],[0.3333333333333333,\"#9c179e\"],[0.4444444444444444,\"#bd3786\"],[0.5555555555555556,\"#d8576b\"],[0.6666666666666666,\"#ed7953\"],[0.7777777777777778,\"#fb9f3a\"],[0.8888888888888888,\"#fdca26\"],[1.0,\"#f0f921\"]],\"sequentialminus\":[[0.0,\"#0d0887\"],[0.1111111111111111,\"#46039f\"],[0.2222222222222222,\"#7201a8\"],[0.3333333333333333,\"#9c179e\"],[0.4444444444444444,\"#bd3786\"],[0.5555555555555556,\"#d8576b\"],[0.6666666666666666,\"#ed7953\"],[0.7777777777777778,\"#fb9f3a\"],[0.8888888888888888,\"#fdca26\"],[1.0,\"#f0f921\"]],\"diverging\":[[0,\"#8e0152\"],[0.1,\"#c51b7d\"],[0.2,\"#de77ae\"],[0.3,\"#f1b6da\"],[0.4,\"#fde0ef\"],[0.5,\"#f7f7f7\"],[0.6,\"#e6f5d0\"],[0.7,\"#b8e186\"],[0.8,\"#7fbc41\"],[0.9,\"#4d9221\"],[1,\"#276419\"]]},\"xaxis\":{\"gridcolor\":\"white\",\"linecolor\":\"white\",\"ticks\":\"\",\"title\":{\"standoff\":15},\"zerolinecolor\":\"white\",\"automargin\":true,\"zerolinewidth\":2},\"yaxis\":{\"gridcolor\":\"white\",\"linecolor\":\"white\",\"ticks\":\"\",\"title\":{\"standoff\":15},\"zerolinecolor\":\"white\",\"automargin\":true,\"zerolinewidth\":2},\"scene\":{\"xaxis\":{\"backgroundcolor\":\"#E5ECF6\",\"gridcolor\":\"white\",\"linecolor\":\"white\",\"showbackground\":true,\"ticks\":\"\",\"zerolinecolor\":\"white\",\"gridwidth\":2},\"yaxis\":{\"backgroundcolor\":\"#E5ECF6\",\"gridcolor\":\"white\",\"linecolor\":\"white\",\"showbackground\":true,\"ticks\":\"\",\"zerolinecolor\":\"white\",\"gridwidth\":2},\"zaxis\":{\"backgroundcolor\":\"#E5ECF6\",\"gridcolor\":\"white\",\"linecolor\":\"white\",\"showbackground\":true,\"ticks\":\"\",\"zerolinecolor\":\"white\",\"gridwidth\":2}},\"shapedefaults\":{\"line\":{\"color\":\"#2a3f5f\"}},\"annotationdefaults\":{\"arrowcolor\":\"#2a3f5f\",\"arrowhead\":0,\"arrowwidth\":1},\"geo\":{\"bgcolor\":\"white\",\"landcolor\":\"#E5ECF6\",\"subunitcolor\":\"white\",\"showland\":true,\"showlakes\":true,\"lakecolor\":\"white\"},\"title\":{\"x\":0.05},\"mapbox\":{\"style\":\"light\"}}},\"margin\":{\"t\":50,\"b\":150,\"l\":50,\"r\":50},\"title\":{\"text\":\"Favorite Coffee by Age Group\"},\"yaxis\":{\"title\":{\"text\":\"Age Group\"}},\"xaxis\":{\"title\":{\"text\":\"Count\"}},\"barmode\":\"stack\",\"legend\":{\"title\":{\"text\":\"Favorite Coffee\"}},\"height\":1000,\"plot_bgcolor\":\"white\",\"paper_bgcolor\":\"white\",\"annotations\":[{\"align\":\"left\",\"showarrow\":false,\"text\":\"\\u003cb\\u003eTidyTuesday\\u003c\\u002fb\\u003e: 2024-05-14 \\u003cb\\u003eData\\u003c\\u002fb\\u003e: Cometeer \\u003cb\\u003egithub:\\u003c\\u002fb\\u003e kayleahaynes\",\"x\":1,\"xref\":\"paper\",\"y\":-0.15,\"yref\":\"paper\"}]},                        {\"responsive\": true}                    ).then(function(){\n",
       "                            \n",
       "var gd = document.getElementById('d7ca6e2c-a32c-436a-9d52-72530f767e22');\n",
       "var x = new MutationObserver(function (mutations, observer) {{\n",
       "        var display = window.getComputedStyle(gd).display;\n",
       "        if (!display || display === 'none') {{\n",
       "            console.log([gd, 'removed!']);\n",
       "            Plotly.purge(gd);\n",
       "            observer.disconnect();\n",
       "        }}\n",
       "}});\n",
       "\n",
       "// Listen for the removal of the full notebook cells\n",
       "var notebookContainer = gd.closest('#notebook-container');\n",
       "if (notebookContainer) {{\n",
       "    x.observe(notebookContainer, {childList: true});\n",
       "}}\n",
       "\n",
       "// Listen for the clearing of the current output cell\n",
       "var outputEl = gd.closest('.output');\n",
       "if (outputEl) {{\n",
       "    x.observe(outputEl, {childList: true});\n",
       "}}\n",
       "\n",
       "                        })                };                });            </script>        </div>"
      ]
     },
     "metadata": {},
     "output_type": "display_data"
    }
   ],
   "source": [
    "# Step 1: Count occurrences of each combination of age and favorite\n",
    "counts = plot_data.groupby(['age', 'favorite']).size().unstack(fill_value=0)\n",
    "\n",
    "# Step 2: Calculate total count for each age group\n",
    "counts['Total'] = counts.sum(axis=1)\n",
    "\n",
    "# Step 3: Sort the data by total count from smallest to largest\n",
    "counts_sorted = counts.sort_values(by='Total')\n",
    "\n",
    "# Step 4: Sort based on 25-34 year old order\n",
    "age_25_34 = counts_sorted.loc['25-34 years old', :].sort_values(ascending=False)\n",
    "counts_sorted = counts_sorted.reindex(columns=age_25_34.index.tolist())\n",
    "\n",
    "# Step 5: Create a stacked bar chart using Plotly\n",
    "fig = go.Figure()\n",
    "\n",
    "for col, color in zip(counts_sorted.columns[1:], coffee_colors_hex):  # Exclude 'Total' column\n",
    "    fig.add_trace(go.Bar(y=counts_sorted.index, x=counts_sorted[col], name=col, orientation='h', marker_color=color))  # Flip x and y axes\n",
    "\n",
    "# Step 6: Customize the plot\n",
    "fig.update_layout(\n",
    "    title='Favorite Coffee by Age Group',\n",
    "    yaxis=dict(title='Age Group'),  # Update y-axis label\n",
    "    xaxis=dict(title='Count'),  # Update x-axis label\n",
    "    barmode='stack',\n",
    "    legend=dict(title='Favorite Coffee'), \n",
    "    height = 1000, \n",
    "    plot_bgcolor='white',  # Set background color to white\n",
    "    paper_bgcolor='white',  # Set paper color to white\n",
    "    margin=dict(t=50, b=150, l=50, r=50),\n",
    "    annotations=[dict(\n",
    "        text='<b>TidyTuesday</b>: 2024-05-14 <b>Data</b>: Cometeer <b>github:</b> kayleahaynes',\n",
    "        align='left',\n",
    "        showarrow=False,\n",
    "        xref='paper',\n",
    "        yref='paper',\n",
    "        x=1,\n",
    "        y=-0.15  # Position below the x-axis title\n",
    "    )]\n",
    ")\n",
    "\n",
    "# Show plot\n",
    "fig.show()"
   ]
  }
 ],
 "metadata": {
  "language_info": {
   "name": "python"
  }
 },
 "nbformat": 4,
 "nbformat_minor": 2
}
